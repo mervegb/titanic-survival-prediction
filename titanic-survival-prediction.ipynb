{
 "cells": [
  {
   "cell_type": "code",
   "execution_count": 1,
   "id": "31260671",
   "metadata": {
    "_cell_guid": "b1076dfc-b9ad-4769-8c92-a6c4dae69d19",
    "_uuid": "8f2839f25d086af736a60e9eeb907d3b93b6e0e5",
    "execution": {
     "iopub.execute_input": "2024-11-01T18:36:34.567057Z",
     "iopub.status.busy": "2024-11-01T18:36:34.566209Z",
     "iopub.status.idle": "2024-11-01T18:36:35.872442Z",
     "shell.execute_reply": "2024-11-01T18:36:35.871039Z"
    },
    "papermill": {
     "duration": 1.333577,
     "end_time": "2024-11-01T18:36:35.875412",
     "exception": false,
     "start_time": "2024-11-01T18:36:34.541835",
     "status": "completed"
    },
    "tags": []
   },
   "outputs": [],
   "source": [
    "import pandas as pd\n",
    "import numpy as np"
   ]
  },
  {
   "cell_type": "markdown",
   "id": "fd7ea886",
   "metadata": {
    "papermill": {
     "duration": 0.022684,
     "end_time": "2024-11-01T18:36:35.921957",
     "exception": false,
     "start_time": "2024-11-01T18:36:35.899273",
     "status": "completed"
    },
    "tags": []
   },
   "source": [
    "# Initial Review and Preprocessing"
   ]
  },
  {
   "cell_type": "code",
   "execution_count": 2,
   "id": "9a0c8f22",
   "metadata": {
    "execution": {
     "iopub.execute_input": "2024-11-01T18:36:35.966654Z",
     "iopub.status.busy": "2024-11-01T18:36:35.966081Z",
     "iopub.status.idle": "2024-11-01T18:36:36.001511Z",
     "shell.execute_reply": "2024-11-01T18:36:36.000055Z"
    },
    "papermill": {
     "duration": 0.061362,
     "end_time": "2024-11-01T18:36:36.004687",
     "exception": false,
     "start_time": "2024-11-01T18:36:35.943325",
     "status": "completed"
    },
    "tags": []
   },
   "outputs": [],
   "source": [
    "# Reading the dataset\n",
    "train = pd.read_csv(\"../input/titanic/train.csv\")\n",
    "test = pd.read_csv(\"../input/titanic/test.csv\")"
   ]
  },
  {
   "cell_type": "code",
   "execution_count": 3,
   "id": "21290510",
   "metadata": {
    "execution": {
     "iopub.execute_input": "2024-11-01T18:36:36.053097Z",
     "iopub.status.busy": "2024-11-01T18:36:36.052628Z",
     "iopub.status.idle": "2024-11-01T18:36:36.060242Z",
     "shell.execute_reply": "2024-11-01T18:36:36.058577Z"
    },
    "papermill": {
     "duration": 0.036094,
     "end_time": "2024-11-01T18:36:36.063321",
     "exception": false,
     "start_time": "2024-11-01T18:36:36.027227",
     "status": "completed"
    },
    "tags": []
   },
   "outputs": [
    {
     "name": "stdout",
     "output_type": "stream",
     "text": [
      "Train Shape: (891, 12)\n",
      "Test Shape: (418, 11)\n"
     ]
    }
   ],
   "source": [
    "print(\"Train Shape:\",train.shape)\n",
    "print(\"Test Shape:\",test.shape)"
   ]
  },
  {
   "cell_type": "code",
   "execution_count": 4,
   "id": "1811e7cd",
   "metadata": {
    "execution": {
     "iopub.execute_input": "2024-11-01T18:36:36.112597Z",
     "iopub.status.busy": "2024-11-01T18:36:36.112143Z",
     "iopub.status.idle": "2024-11-01T18:36:36.161157Z",
     "shell.execute_reply": "2024-11-01T18:36:36.159281Z"
    },
    "papermill": {
     "duration": 0.077296,
     "end_time": "2024-11-01T18:36:36.164799",
     "exception": false,
     "start_time": "2024-11-01T18:36:36.087503",
     "status": "completed"
    },
    "tags": []
   },
   "outputs": [
    {
     "name": "stdout",
     "output_type": "stream",
     "text": [
      "<class 'pandas.core.frame.DataFrame'>\n",
      "RangeIndex: 891 entries, 0 to 890\n",
      "Data columns (total 12 columns):\n",
      " #   Column       Non-Null Count  Dtype  \n",
      "---  ------       --------------  -----  \n",
      " 0   PassengerId  891 non-null    int64  \n",
      " 1   Survived     891 non-null    int64  \n",
      " 2   Pclass       891 non-null    int64  \n",
      " 3   Name         891 non-null    object \n",
      " 4   Sex          891 non-null    object \n",
      " 5   Age          714 non-null    float64\n",
      " 6   SibSp        891 non-null    int64  \n",
      " 7   Parch        891 non-null    int64  \n",
      " 8   Ticket       891 non-null    object \n",
      " 9   Fare         891 non-null    float64\n",
      " 10  Cabin        204 non-null    object \n",
      " 11  Embarked     889 non-null    object \n",
      "dtypes: float64(2), int64(5), object(5)\n",
      "memory usage: 83.7+ KB\n"
     ]
    }
   ],
   "source": [
    "# understanding structure\n",
    "train.info()"
   ]
  },
  {
   "cell_type": "code",
   "execution_count": 5,
   "id": "d8794afa",
   "metadata": {
    "execution": {
     "iopub.execute_input": "2024-11-01T18:36:36.211839Z",
     "iopub.status.busy": "2024-11-01T18:36:36.211384Z",
     "iopub.status.idle": "2024-11-01T18:36:36.225097Z",
     "shell.execute_reply": "2024-11-01T18:36:36.223881Z"
    },
    "papermill": {
     "duration": 0.040277,
     "end_time": "2024-11-01T18:36:36.228209",
     "exception": false,
     "start_time": "2024-11-01T18:36:36.187932",
     "status": "completed"
    },
    "tags": []
   },
   "outputs": [
    {
     "name": "stdout",
     "output_type": "stream",
     "text": [
      "<class 'pandas.core.frame.DataFrame'>\n",
      "RangeIndex: 418 entries, 0 to 417\n",
      "Data columns (total 11 columns):\n",
      " #   Column       Non-Null Count  Dtype  \n",
      "---  ------       --------------  -----  \n",
      " 0   PassengerId  418 non-null    int64  \n",
      " 1   Pclass       418 non-null    int64  \n",
      " 2   Name         418 non-null    object \n",
      " 3   Sex          418 non-null    object \n",
      " 4   Age          332 non-null    float64\n",
      " 5   SibSp        418 non-null    int64  \n",
      " 6   Parch        418 non-null    int64  \n",
      " 7   Ticket       418 non-null    object \n",
      " 8   Fare         417 non-null    float64\n",
      " 9   Cabin        91 non-null     object \n",
      " 10  Embarked     418 non-null    object \n",
      "dtypes: float64(2), int64(4), object(5)\n",
      "memory usage: 36.0+ KB\n"
     ]
    }
   ],
   "source": [
    "test.info()"
   ]
  },
  {
   "cell_type": "code",
   "execution_count": 6,
   "id": "72218c92",
   "metadata": {
    "execution": {
     "iopub.execute_input": "2024-11-01T18:36:36.275958Z",
     "iopub.status.busy": "2024-11-01T18:36:36.275509Z",
     "iopub.status.idle": "2024-11-01T18:36:36.304776Z",
     "shell.execute_reply": "2024-11-01T18:36:36.303469Z"
    },
    "papermill": {
     "duration": 0.056439,
     "end_time": "2024-11-01T18:36:36.307568",
     "exception": false,
     "start_time": "2024-11-01T18:36:36.251129",
     "status": "completed"
    },
    "tags": []
   },
   "outputs": [
    {
     "data": {
      "text/html": [
       "<div>\n",
       "<style scoped>\n",
       "    .dataframe tbody tr th:only-of-type {\n",
       "        vertical-align: middle;\n",
       "    }\n",
       "\n",
       "    .dataframe tbody tr th {\n",
       "        vertical-align: top;\n",
       "    }\n",
       "\n",
       "    .dataframe thead th {\n",
       "        text-align: right;\n",
       "    }\n",
       "</style>\n",
       "<table border=\"1\" class=\"dataframe\">\n",
       "  <thead>\n",
       "    <tr style=\"text-align: right;\">\n",
       "      <th></th>\n",
       "      <th>PassengerId</th>\n",
       "      <th>Survived</th>\n",
       "      <th>Pclass</th>\n",
       "      <th>Name</th>\n",
       "      <th>Sex</th>\n",
       "      <th>Age</th>\n",
       "      <th>SibSp</th>\n",
       "      <th>Parch</th>\n",
       "      <th>Ticket</th>\n",
       "      <th>Fare</th>\n",
       "      <th>Cabin</th>\n",
       "      <th>Embarked</th>\n",
       "    </tr>\n",
       "  </thead>\n",
       "  <tbody>\n",
       "    <tr>\n",
       "      <th>0</th>\n",
       "      <td>1</td>\n",
       "      <td>0</td>\n",
       "      <td>3</td>\n",
       "      <td>Braund, Mr. Owen Harris</td>\n",
       "      <td>male</td>\n",
       "      <td>22.0</td>\n",
       "      <td>1</td>\n",
       "      <td>0</td>\n",
       "      <td>A/5 21171</td>\n",
       "      <td>7.2500</td>\n",
       "      <td>NaN</td>\n",
       "      <td>S</td>\n",
       "    </tr>\n",
       "    <tr>\n",
       "      <th>1</th>\n",
       "      <td>2</td>\n",
       "      <td>1</td>\n",
       "      <td>1</td>\n",
       "      <td>Cumings, Mrs. John Bradley (Florence Briggs Th...</td>\n",
       "      <td>female</td>\n",
       "      <td>38.0</td>\n",
       "      <td>1</td>\n",
       "      <td>0</td>\n",
       "      <td>PC 17599</td>\n",
       "      <td>71.2833</td>\n",
       "      <td>C85</td>\n",
       "      <td>C</td>\n",
       "    </tr>\n",
       "    <tr>\n",
       "      <th>2</th>\n",
       "      <td>3</td>\n",
       "      <td>1</td>\n",
       "      <td>3</td>\n",
       "      <td>Heikkinen, Miss. Laina</td>\n",
       "      <td>female</td>\n",
       "      <td>26.0</td>\n",
       "      <td>0</td>\n",
       "      <td>0</td>\n",
       "      <td>STON/O2. 3101282</td>\n",
       "      <td>7.9250</td>\n",
       "      <td>NaN</td>\n",
       "      <td>S</td>\n",
       "    </tr>\n",
       "    <tr>\n",
       "      <th>3</th>\n",
       "      <td>4</td>\n",
       "      <td>1</td>\n",
       "      <td>1</td>\n",
       "      <td>Futrelle, Mrs. Jacques Heath (Lily May Peel)</td>\n",
       "      <td>female</td>\n",
       "      <td>35.0</td>\n",
       "      <td>1</td>\n",
       "      <td>0</td>\n",
       "      <td>113803</td>\n",
       "      <td>53.1000</td>\n",
       "      <td>C123</td>\n",
       "      <td>S</td>\n",
       "    </tr>\n",
       "    <tr>\n",
       "      <th>4</th>\n",
       "      <td>5</td>\n",
       "      <td>0</td>\n",
       "      <td>3</td>\n",
       "      <td>Allen, Mr. William Henry</td>\n",
       "      <td>male</td>\n",
       "      <td>35.0</td>\n",
       "      <td>0</td>\n",
       "      <td>0</td>\n",
       "      <td>373450</td>\n",
       "      <td>8.0500</td>\n",
       "      <td>NaN</td>\n",
       "      <td>S</td>\n",
       "    </tr>\n",
       "    <tr>\n",
       "      <th>5</th>\n",
       "      <td>6</td>\n",
       "      <td>0</td>\n",
       "      <td>3</td>\n",
       "      <td>Moran, Mr. James</td>\n",
       "      <td>male</td>\n",
       "      <td>NaN</td>\n",
       "      <td>0</td>\n",
       "      <td>0</td>\n",
       "      <td>330877</td>\n",
       "      <td>8.4583</td>\n",
       "      <td>NaN</td>\n",
       "      <td>Q</td>\n",
       "    </tr>\n",
       "    <tr>\n",
       "      <th>6</th>\n",
       "      <td>7</td>\n",
       "      <td>0</td>\n",
       "      <td>1</td>\n",
       "      <td>McCarthy, Mr. Timothy J</td>\n",
       "      <td>male</td>\n",
       "      <td>54.0</td>\n",
       "      <td>0</td>\n",
       "      <td>0</td>\n",
       "      <td>17463</td>\n",
       "      <td>51.8625</td>\n",
       "      <td>E46</td>\n",
       "      <td>S</td>\n",
       "    </tr>\n",
       "    <tr>\n",
       "      <th>7</th>\n",
       "      <td>8</td>\n",
       "      <td>0</td>\n",
       "      <td>3</td>\n",
       "      <td>Palsson, Master. Gosta Leonard</td>\n",
       "      <td>male</td>\n",
       "      <td>2.0</td>\n",
       "      <td>3</td>\n",
       "      <td>1</td>\n",
       "      <td>349909</td>\n",
       "      <td>21.0750</td>\n",
       "      <td>NaN</td>\n",
       "      <td>S</td>\n",
       "    </tr>\n",
       "    <tr>\n",
       "      <th>8</th>\n",
       "      <td>9</td>\n",
       "      <td>1</td>\n",
       "      <td>3</td>\n",
       "      <td>Johnson, Mrs. Oscar W (Elisabeth Vilhelmina Berg)</td>\n",
       "      <td>female</td>\n",
       "      <td>27.0</td>\n",
       "      <td>0</td>\n",
       "      <td>2</td>\n",
       "      <td>347742</td>\n",
       "      <td>11.1333</td>\n",
       "      <td>NaN</td>\n",
       "      <td>S</td>\n",
       "    </tr>\n",
       "    <tr>\n",
       "      <th>9</th>\n",
       "      <td>10</td>\n",
       "      <td>1</td>\n",
       "      <td>2</td>\n",
       "      <td>Nasser, Mrs. Nicholas (Adele Achem)</td>\n",
       "      <td>female</td>\n",
       "      <td>14.0</td>\n",
       "      <td>1</td>\n",
       "      <td>0</td>\n",
       "      <td>237736</td>\n",
       "      <td>30.0708</td>\n",
       "      <td>NaN</td>\n",
       "      <td>C</td>\n",
       "    </tr>\n",
       "  </tbody>\n",
       "</table>\n",
       "</div>"
      ],
      "text/plain": [
       "   PassengerId  Survived  Pclass  \\\n",
       "0            1         0       3   \n",
       "1            2         1       1   \n",
       "2            3         1       3   \n",
       "3            4         1       1   \n",
       "4            5         0       3   \n",
       "5            6         0       3   \n",
       "6            7         0       1   \n",
       "7            8         0       3   \n",
       "8            9         1       3   \n",
       "9           10         1       2   \n",
       "\n",
       "                                                Name     Sex   Age  SibSp  \\\n",
       "0                            Braund, Mr. Owen Harris    male  22.0      1   \n",
       "1  Cumings, Mrs. John Bradley (Florence Briggs Th...  female  38.0      1   \n",
       "2                             Heikkinen, Miss. Laina  female  26.0      0   \n",
       "3       Futrelle, Mrs. Jacques Heath (Lily May Peel)  female  35.0      1   \n",
       "4                           Allen, Mr. William Henry    male  35.0      0   \n",
       "5                                   Moran, Mr. James    male   NaN      0   \n",
       "6                            McCarthy, Mr. Timothy J    male  54.0      0   \n",
       "7                     Palsson, Master. Gosta Leonard    male   2.0      3   \n",
       "8  Johnson, Mrs. Oscar W (Elisabeth Vilhelmina Berg)  female  27.0      0   \n",
       "9                Nasser, Mrs. Nicholas (Adele Achem)  female  14.0      1   \n",
       "\n",
       "   Parch            Ticket     Fare Cabin Embarked  \n",
       "0      0         A/5 21171   7.2500   NaN        S  \n",
       "1      0          PC 17599  71.2833   C85        C  \n",
       "2      0  STON/O2. 3101282   7.9250   NaN        S  \n",
       "3      0            113803  53.1000  C123        S  \n",
       "4      0            373450   8.0500   NaN        S  \n",
       "5      0            330877   8.4583   NaN        Q  \n",
       "6      0             17463  51.8625   E46        S  \n",
       "7      1            349909  21.0750   NaN        S  \n",
       "8      2            347742  11.1333   NaN        S  \n",
       "9      0            237736  30.0708   NaN        C  "
      ]
     },
     "execution_count": 6,
     "metadata": {},
     "output_type": "execute_result"
    }
   ],
   "source": [
    "train.head(10)"
   ]
  },
  {
   "cell_type": "code",
   "execution_count": 7,
   "id": "c4d39b0a",
   "metadata": {
    "execution": {
     "iopub.execute_input": "2024-11-01T18:36:36.355265Z",
     "iopub.status.busy": "2024-11-01T18:36:36.354810Z",
     "iopub.status.idle": "2024-11-01T18:36:36.393528Z",
     "shell.execute_reply": "2024-11-01T18:36:36.392326Z"
    },
    "papermill": {
     "duration": 0.066123,
     "end_time": "2024-11-01T18:36:36.396435",
     "exception": false,
     "start_time": "2024-11-01T18:36:36.330312",
     "status": "completed"
    },
    "tags": []
   },
   "outputs": [
    {
     "data": {
      "text/html": [
       "<div>\n",
       "<style scoped>\n",
       "    .dataframe tbody tr th:only-of-type {\n",
       "        vertical-align: middle;\n",
       "    }\n",
       "\n",
       "    .dataframe tbody tr th {\n",
       "        vertical-align: top;\n",
       "    }\n",
       "\n",
       "    .dataframe thead th {\n",
       "        text-align: right;\n",
       "    }\n",
       "</style>\n",
       "<table border=\"1\" class=\"dataframe\">\n",
       "  <thead>\n",
       "    <tr style=\"text-align: right;\">\n",
       "      <th></th>\n",
       "      <th>PassengerId</th>\n",
       "      <th>Survived</th>\n",
       "      <th>Pclass</th>\n",
       "      <th>Age</th>\n",
       "      <th>SibSp</th>\n",
       "      <th>Parch</th>\n",
       "      <th>Fare</th>\n",
       "    </tr>\n",
       "  </thead>\n",
       "  <tbody>\n",
       "    <tr>\n",
       "      <th>count</th>\n",
       "      <td>891.000000</td>\n",
       "      <td>891.000000</td>\n",
       "      <td>891.000000</td>\n",
       "      <td>714.000000</td>\n",
       "      <td>891.000000</td>\n",
       "      <td>891.000000</td>\n",
       "      <td>891.000000</td>\n",
       "    </tr>\n",
       "    <tr>\n",
       "      <th>mean</th>\n",
       "      <td>446.000000</td>\n",
       "      <td>0.383838</td>\n",
       "      <td>2.308642</td>\n",
       "      <td>29.699118</td>\n",
       "      <td>0.523008</td>\n",
       "      <td>0.381594</td>\n",
       "      <td>32.204208</td>\n",
       "    </tr>\n",
       "    <tr>\n",
       "      <th>std</th>\n",
       "      <td>257.353842</td>\n",
       "      <td>0.486592</td>\n",
       "      <td>0.836071</td>\n",
       "      <td>14.526497</td>\n",
       "      <td>1.102743</td>\n",
       "      <td>0.806057</td>\n",
       "      <td>49.693429</td>\n",
       "    </tr>\n",
       "    <tr>\n",
       "      <th>min</th>\n",
       "      <td>1.000000</td>\n",
       "      <td>0.000000</td>\n",
       "      <td>1.000000</td>\n",
       "      <td>0.420000</td>\n",
       "      <td>0.000000</td>\n",
       "      <td>0.000000</td>\n",
       "      <td>0.000000</td>\n",
       "    </tr>\n",
       "    <tr>\n",
       "      <th>25%</th>\n",
       "      <td>223.500000</td>\n",
       "      <td>0.000000</td>\n",
       "      <td>2.000000</td>\n",
       "      <td>20.125000</td>\n",
       "      <td>0.000000</td>\n",
       "      <td>0.000000</td>\n",
       "      <td>7.910400</td>\n",
       "    </tr>\n",
       "    <tr>\n",
       "      <th>50%</th>\n",
       "      <td>446.000000</td>\n",
       "      <td>0.000000</td>\n",
       "      <td>3.000000</td>\n",
       "      <td>28.000000</td>\n",
       "      <td>0.000000</td>\n",
       "      <td>0.000000</td>\n",
       "      <td>14.454200</td>\n",
       "    </tr>\n",
       "    <tr>\n",
       "      <th>75%</th>\n",
       "      <td>668.500000</td>\n",
       "      <td>1.000000</td>\n",
       "      <td>3.000000</td>\n",
       "      <td>38.000000</td>\n",
       "      <td>1.000000</td>\n",
       "      <td>0.000000</td>\n",
       "      <td>31.000000</td>\n",
       "    </tr>\n",
       "    <tr>\n",
       "      <th>max</th>\n",
       "      <td>891.000000</td>\n",
       "      <td>1.000000</td>\n",
       "      <td>3.000000</td>\n",
       "      <td>80.000000</td>\n",
       "      <td>8.000000</td>\n",
       "      <td>6.000000</td>\n",
       "      <td>512.329200</td>\n",
       "    </tr>\n",
       "  </tbody>\n",
       "</table>\n",
       "</div>"
      ],
      "text/plain": [
       "       PassengerId    Survived      Pclass         Age       SibSp  \\\n",
       "count   891.000000  891.000000  891.000000  714.000000  891.000000   \n",
       "mean    446.000000    0.383838    2.308642   29.699118    0.523008   \n",
       "std     257.353842    0.486592    0.836071   14.526497    1.102743   \n",
       "min       1.000000    0.000000    1.000000    0.420000    0.000000   \n",
       "25%     223.500000    0.000000    2.000000   20.125000    0.000000   \n",
       "50%     446.000000    0.000000    3.000000   28.000000    0.000000   \n",
       "75%     668.500000    1.000000    3.000000   38.000000    1.000000   \n",
       "max     891.000000    1.000000    3.000000   80.000000    8.000000   \n",
       "\n",
       "            Parch        Fare  \n",
       "count  891.000000  891.000000  \n",
       "mean     0.381594   32.204208  \n",
       "std      0.806057   49.693429  \n",
       "min      0.000000    0.000000  \n",
       "25%      0.000000    7.910400  \n",
       "50%      0.000000   14.454200  \n",
       "75%      0.000000   31.000000  \n",
       "max      6.000000  512.329200  "
      ]
     },
     "execution_count": 7,
     "metadata": {},
     "output_type": "execute_result"
    }
   ],
   "source": [
    "train.describe()"
   ]
  },
  {
   "cell_type": "code",
   "execution_count": 8,
   "id": "39c89ddc",
   "metadata": {
    "execution": {
     "iopub.execute_input": "2024-11-01T18:36:36.445338Z",
     "iopub.status.busy": "2024-11-01T18:36:36.444865Z",
     "iopub.status.idle": "2024-11-01T18:36:36.476118Z",
     "shell.execute_reply": "2024-11-01T18:36:36.474928Z"
    },
    "papermill": {
     "duration": 0.059019,
     "end_time": "2024-11-01T18:36:36.478992",
     "exception": false,
     "start_time": "2024-11-01T18:36:36.419973",
     "status": "completed"
    },
    "tags": []
   },
   "outputs": [
    {
     "data": {
      "text/html": [
       "<div>\n",
       "<style scoped>\n",
       "    .dataframe tbody tr th:only-of-type {\n",
       "        vertical-align: middle;\n",
       "    }\n",
       "\n",
       "    .dataframe tbody tr th {\n",
       "        vertical-align: top;\n",
       "    }\n",
       "\n",
       "    .dataframe thead th {\n",
       "        text-align: right;\n",
       "    }\n",
       "</style>\n",
       "<table border=\"1\" class=\"dataframe\">\n",
       "  <thead>\n",
       "    <tr style=\"text-align: right;\">\n",
       "      <th></th>\n",
       "      <th>PassengerId</th>\n",
       "      <th>Pclass</th>\n",
       "      <th>Age</th>\n",
       "      <th>SibSp</th>\n",
       "      <th>Parch</th>\n",
       "      <th>Fare</th>\n",
       "    </tr>\n",
       "  </thead>\n",
       "  <tbody>\n",
       "    <tr>\n",
       "      <th>count</th>\n",
       "      <td>418.000000</td>\n",
       "      <td>418.000000</td>\n",
       "      <td>332.000000</td>\n",
       "      <td>418.000000</td>\n",
       "      <td>418.000000</td>\n",
       "      <td>417.000000</td>\n",
       "    </tr>\n",
       "    <tr>\n",
       "      <th>mean</th>\n",
       "      <td>1100.500000</td>\n",
       "      <td>2.265550</td>\n",
       "      <td>30.272590</td>\n",
       "      <td>0.447368</td>\n",
       "      <td>0.392344</td>\n",
       "      <td>35.627188</td>\n",
       "    </tr>\n",
       "    <tr>\n",
       "      <th>std</th>\n",
       "      <td>120.810458</td>\n",
       "      <td>0.841838</td>\n",
       "      <td>14.181209</td>\n",
       "      <td>0.896760</td>\n",
       "      <td>0.981429</td>\n",
       "      <td>55.907576</td>\n",
       "    </tr>\n",
       "    <tr>\n",
       "      <th>min</th>\n",
       "      <td>892.000000</td>\n",
       "      <td>1.000000</td>\n",
       "      <td>0.170000</td>\n",
       "      <td>0.000000</td>\n",
       "      <td>0.000000</td>\n",
       "      <td>0.000000</td>\n",
       "    </tr>\n",
       "    <tr>\n",
       "      <th>25%</th>\n",
       "      <td>996.250000</td>\n",
       "      <td>1.000000</td>\n",
       "      <td>21.000000</td>\n",
       "      <td>0.000000</td>\n",
       "      <td>0.000000</td>\n",
       "      <td>7.895800</td>\n",
       "    </tr>\n",
       "    <tr>\n",
       "      <th>50%</th>\n",
       "      <td>1100.500000</td>\n",
       "      <td>3.000000</td>\n",
       "      <td>27.000000</td>\n",
       "      <td>0.000000</td>\n",
       "      <td>0.000000</td>\n",
       "      <td>14.454200</td>\n",
       "    </tr>\n",
       "    <tr>\n",
       "      <th>75%</th>\n",
       "      <td>1204.750000</td>\n",
       "      <td>3.000000</td>\n",
       "      <td>39.000000</td>\n",
       "      <td>1.000000</td>\n",
       "      <td>0.000000</td>\n",
       "      <td>31.500000</td>\n",
       "    </tr>\n",
       "    <tr>\n",
       "      <th>max</th>\n",
       "      <td>1309.000000</td>\n",
       "      <td>3.000000</td>\n",
       "      <td>76.000000</td>\n",
       "      <td>8.000000</td>\n",
       "      <td>9.000000</td>\n",
       "      <td>512.329200</td>\n",
       "    </tr>\n",
       "  </tbody>\n",
       "</table>\n",
       "</div>"
      ],
      "text/plain": [
       "       PassengerId      Pclass         Age       SibSp       Parch        Fare\n",
       "count   418.000000  418.000000  332.000000  418.000000  418.000000  417.000000\n",
       "mean   1100.500000    2.265550   30.272590    0.447368    0.392344   35.627188\n",
       "std     120.810458    0.841838   14.181209    0.896760    0.981429   55.907576\n",
       "min     892.000000    1.000000    0.170000    0.000000    0.000000    0.000000\n",
       "25%     996.250000    1.000000   21.000000    0.000000    0.000000    7.895800\n",
       "50%    1100.500000    3.000000   27.000000    0.000000    0.000000   14.454200\n",
       "75%    1204.750000    3.000000   39.000000    1.000000    0.000000   31.500000\n",
       "max    1309.000000    3.000000   76.000000    8.000000    9.000000  512.329200"
      ]
     },
     "execution_count": 8,
     "metadata": {},
     "output_type": "execute_result"
    }
   ],
   "source": [
    "test.describe()"
   ]
  },
  {
   "cell_type": "code",
   "execution_count": 9,
   "id": "5578d48c",
   "metadata": {
    "execution": {
     "iopub.execute_input": "2024-11-01T18:36:36.527204Z",
     "iopub.status.busy": "2024-11-01T18:36:36.526803Z",
     "iopub.status.idle": "2024-11-01T18:36:36.537496Z",
     "shell.execute_reply": "2024-11-01T18:36:36.536330Z"
    },
    "papermill": {
     "duration": 0.03813,
     "end_time": "2024-11-01T18:36:36.540443",
     "exception": false,
     "start_time": "2024-11-01T18:36:36.502313",
     "status": "completed"
    },
    "tags": []
   },
   "outputs": [
    {
     "data": {
      "text/plain": [
       "PassengerId      0\n",
       "Survived         0\n",
       "Pclass           0\n",
       "Name             0\n",
       "Sex              0\n",
       "Age            177\n",
       "SibSp            0\n",
       "Parch            0\n",
       "Ticket           0\n",
       "Fare             0\n",
       "Cabin          687\n",
       "Embarked         2\n",
       "dtype: int64"
      ]
     },
     "execution_count": 9,
     "metadata": {},
     "output_type": "execute_result"
    }
   ],
   "source": [
    "#Identifying the NaN or Nulls\n",
    "train.isnull().sum()"
   ]
  },
  {
   "cell_type": "code",
   "execution_count": 10,
   "id": "9e27b314",
   "metadata": {
    "execution": {
     "iopub.execute_input": "2024-11-01T18:36:36.591002Z",
     "iopub.status.busy": "2024-11-01T18:36:36.590511Z",
     "iopub.status.idle": "2024-11-01T18:36:36.605290Z",
     "shell.execute_reply": "2024-11-01T18:36:36.602856Z"
    },
    "papermill": {
     "duration": 0.044566,
     "end_time": "2024-11-01T18:36:36.608850",
     "exception": false,
     "start_time": "2024-11-01T18:36:36.564284",
     "status": "completed"
    },
    "tags": []
   },
   "outputs": [
    {
     "data": {
      "text/plain": [
       "PassengerId      0\n",
       "Pclass           0\n",
       "Name             0\n",
       "Sex              0\n",
       "Age             86\n",
       "SibSp            0\n",
       "Parch            0\n",
       "Ticket           0\n",
       "Fare             1\n",
       "Cabin          327\n",
       "Embarked         0\n",
       "dtype: int64"
      ]
     },
     "execution_count": 10,
     "metadata": {},
     "output_type": "execute_result"
    }
   ],
   "source": [
    "test.isnull().sum()"
   ]
  },
  {
   "cell_type": "code",
   "execution_count": 11,
   "id": "0247c84c",
   "metadata": {
    "execution": {
     "iopub.execute_input": "2024-11-01T18:36:36.659697Z",
     "iopub.status.busy": "2024-11-01T18:36:36.659244Z",
     "iopub.status.idle": "2024-11-01T18:36:36.682576Z",
     "shell.execute_reply": "2024-11-01T18:36:36.681183Z"
    },
    "papermill": {
     "duration": 0.051258,
     "end_time": "2024-11-01T18:36:36.685466",
     "exception": false,
     "start_time": "2024-11-01T18:36:36.634208",
     "status": "completed"
    },
    "tags": []
   },
   "outputs": [
    {
     "data": {
      "text/html": [
       "<div>\n",
       "<style scoped>\n",
       "    .dataframe tbody tr th:only-of-type {\n",
       "        vertical-align: middle;\n",
       "    }\n",
       "\n",
       "    .dataframe tbody tr th {\n",
       "        vertical-align: top;\n",
       "    }\n",
       "\n",
       "    .dataframe thead th {\n",
       "        text-align: right;\n",
       "    }\n",
       "</style>\n",
       "<table border=\"1\" class=\"dataframe\">\n",
       "  <thead>\n",
       "    <tr style=\"text-align: right;\">\n",
       "      <th></th>\n",
       "      <th>PassengerId</th>\n",
       "      <th>Pclass</th>\n",
       "      <th>Name</th>\n",
       "      <th>Sex</th>\n",
       "      <th>Age</th>\n",
       "      <th>SibSp</th>\n",
       "      <th>Parch</th>\n",
       "      <th>Ticket</th>\n",
       "      <th>Fare</th>\n",
       "      <th>Cabin</th>\n",
       "      <th>Embarked</th>\n",
       "      <th>Survived</th>\n",
       "    </tr>\n",
       "  </thead>\n",
       "  <tbody>\n",
       "    <tr>\n",
       "      <th>0</th>\n",
       "      <td>892</td>\n",
       "      <td>3</td>\n",
       "      <td>Kelly, Mr. James</td>\n",
       "      <td>male</td>\n",
       "      <td>34.5</td>\n",
       "      <td>0</td>\n",
       "      <td>0</td>\n",
       "      <td>330911</td>\n",
       "      <td>7.8292</td>\n",
       "      <td>NaN</td>\n",
       "      <td>Q</td>\n",
       "      <td></td>\n",
       "    </tr>\n",
       "    <tr>\n",
       "      <th>1</th>\n",
       "      <td>893</td>\n",
       "      <td>3</td>\n",
       "      <td>Wilkes, Mrs. James (Ellen Needs)</td>\n",
       "      <td>female</td>\n",
       "      <td>47.0</td>\n",
       "      <td>1</td>\n",
       "      <td>0</td>\n",
       "      <td>363272</td>\n",
       "      <td>7.0000</td>\n",
       "      <td>NaN</td>\n",
       "      <td>S</td>\n",
       "      <td></td>\n",
       "    </tr>\n",
       "    <tr>\n",
       "      <th>2</th>\n",
       "      <td>894</td>\n",
       "      <td>2</td>\n",
       "      <td>Myles, Mr. Thomas Francis</td>\n",
       "      <td>male</td>\n",
       "      <td>62.0</td>\n",
       "      <td>0</td>\n",
       "      <td>0</td>\n",
       "      <td>240276</td>\n",
       "      <td>9.6875</td>\n",
       "      <td>NaN</td>\n",
       "      <td>Q</td>\n",
       "      <td></td>\n",
       "    </tr>\n",
       "    <tr>\n",
       "      <th>3</th>\n",
       "      <td>895</td>\n",
       "      <td>3</td>\n",
       "      <td>Wirz, Mr. Albert</td>\n",
       "      <td>male</td>\n",
       "      <td>27.0</td>\n",
       "      <td>0</td>\n",
       "      <td>0</td>\n",
       "      <td>315154</td>\n",
       "      <td>8.6625</td>\n",
       "      <td>NaN</td>\n",
       "      <td>S</td>\n",
       "      <td></td>\n",
       "    </tr>\n",
       "    <tr>\n",
       "      <th>4</th>\n",
       "      <td>896</td>\n",
       "      <td>3</td>\n",
       "      <td>Hirvonen, Mrs. Alexander (Helga E Lindqvist)</td>\n",
       "      <td>female</td>\n",
       "      <td>22.0</td>\n",
       "      <td>1</td>\n",
       "      <td>1</td>\n",
       "      <td>3101298</td>\n",
       "      <td>12.2875</td>\n",
       "      <td>NaN</td>\n",
       "      <td>S</td>\n",
       "      <td></td>\n",
       "    </tr>\n",
       "  </tbody>\n",
       "</table>\n",
       "</div>"
      ],
      "text/plain": [
       "   PassengerId  Pclass                                          Name     Sex  \\\n",
       "0          892       3                              Kelly, Mr. James    male   \n",
       "1          893       3              Wilkes, Mrs. James (Ellen Needs)  female   \n",
       "2          894       2                     Myles, Mr. Thomas Francis    male   \n",
       "3          895       3                              Wirz, Mr. Albert    male   \n",
       "4          896       3  Hirvonen, Mrs. Alexander (Helga E Lindqvist)  female   \n",
       "\n",
       "    Age  SibSp  Parch   Ticket     Fare Cabin Embarked Survived  \n",
       "0  34.5      0      0   330911   7.8292   NaN        Q           \n",
       "1  47.0      1      0   363272   7.0000   NaN        S           \n",
       "2  62.0      0      0   240276   9.6875   NaN        Q           \n",
       "3  27.0      0      0   315154   8.6625   NaN        S           \n",
       "4  22.0      1      1  3101298  12.2875   NaN        S           "
      ]
     },
     "execution_count": 11,
     "metadata": {},
     "output_type": "execute_result"
    }
   ],
   "source": [
    "test.isnull().sum()\n",
    "test[\"Survived\"] = \"\"\n",
    "test.head()"
   ]
  },
  {
   "cell_type": "markdown",
   "id": "b2fb7097",
   "metadata": {
    "papermill": {
     "duration": 0.024702,
     "end_time": "2024-11-01T18:36:36.735513",
     "exception": false,
     "start_time": "2024-11-01T18:36:36.710811",
     "status": "completed"
    },
    "tags": []
   },
   "source": [
    "# Data Visualizations and Exploratory Data Analysis"
   ]
  },
  {
   "cell_type": "code",
   "execution_count": 12,
   "id": "d85658c4",
   "metadata": {
    "execution": {
     "iopub.execute_input": "2024-11-01T18:36:36.788154Z",
     "iopub.status.busy": "2024-11-01T18:36:36.787710Z",
     "iopub.status.idle": "2024-11-01T18:36:39.193236Z",
     "shell.execute_reply": "2024-11-01T18:36:39.191960Z"
    },
    "papermill": {
     "duration": 2.434881,
     "end_time": "2024-11-01T18:36:39.196347",
     "exception": false,
     "start_time": "2024-11-01T18:36:36.761466",
     "status": "completed"
    },
    "tags": []
   },
   "outputs": [],
   "source": [
    "import matplotlib.pyplot as plt\n",
    "%matplotlib inline\n",
    "import seaborn as sns\n",
    "sns.set() # setting seaborn default for plots"
   ]
  },
  {
   "cell_type": "code",
   "execution_count": 13,
   "id": "2a102896",
   "metadata": {
    "execution": {
     "iopub.execute_input": "2024-11-01T18:36:39.251456Z",
     "iopub.status.busy": "2024-11-01T18:36:39.249625Z",
     "iopub.status.idle": "2024-11-01T18:36:39.260499Z",
     "shell.execute_reply": "2024-11-01T18:36:39.258893Z"
    },
    "papermill": {
     "duration": 0.0405,
     "end_time": "2024-11-01T18:36:39.264475",
     "exception": false,
     "start_time": "2024-11-01T18:36:39.223975",
     "status": "completed"
    },
    "tags": []
   },
   "outputs": [],
   "source": [
    "# Bar chart for categorical features\n",
    "def bar_chart(feature):\n",
    "    survived = train[train['Survived']==1][feature].value_counts()\n",
    "    dead = train[train['Survived']==0][feature].value_counts()\n",
    "    df = pd.DataFrame([survived,dead])\n",
    "    df.index = ['Survived','Dead']\n",
    "    df.plot(kind='bar',stacked=True, figsize=(10,5))"
   ]
  },
  {
   "cell_type": "code",
   "execution_count": 14,
   "id": "73d63a1e",
   "metadata": {
    "execution": {
     "iopub.execute_input": "2024-11-01T18:36:39.334858Z",
     "iopub.status.busy": "2024-11-01T18:36:39.334439Z",
     "iopub.status.idle": "2024-11-01T18:36:39.756210Z",
     "shell.execute_reply": "2024-11-01T18:36:39.754990Z"
    },
    "papermill": {
     "duration": 0.460876,
     "end_time": "2024-11-01T18:36:39.759005",
     "exception": false,
     "start_time": "2024-11-01T18:36:39.298129",
     "status": "completed"
    },
    "tags": []
   },
   "outputs": [
    {
     "name": "stdout",
     "output_type": "stream",
     "text": [
      "Survived :\n",
      " Sex\n",
      "female    233\n",
      "male      109\n",
      "Name: count, dtype: int64\n",
      "Dead:\n",
      " Sex\n",
      "male      468\n",
      "female     81\n",
      "Name: count, dtype: int64\n"
     ]
    },
    {
     "data": {
      "image/png": "[encoded data removed]",
      "text/plain": [
       "<Figure size 1000x500 with 1 Axes>"
      ]
     },
     "metadata": {},
     "output_type": "display_data"
    }
   ],
   "source": [
    "bar_chart(\"Sex\")\n",
    "print(\"Survived :\\n\",train[train['Survived']==1]['Sex'].value_counts())\n",
    "print(\"Dead:\\n\",train[train['Survived']==0]['Sex'].value_counts())"
   ]
  },
  {
   "cell_type": "markdown",
   "id": "4435b1c7",
   "metadata": {
    "papermill": {
     "duration": 0.023494,
     "end_time": "2024-11-01T18:36:39.806557",
     "exception": false,
     "start_time": "2024-11-01T18:36:39.783063",
     "status": "completed"
    },
    "tags": []
   },
   "source": [
    "The Chart confirms Women more likely survivied than Men."
   ]
  },
  {
   "cell_type": "code",
   "execution_count": 15,
   "id": "4cde9646",
   "metadata": {
    "execution": {
     "iopub.execute_input": "2024-11-01T18:36:39.856919Z",
     "iopub.status.busy": "2024-11-01T18:36:39.856491Z",
     "iopub.status.idle": "2024-11-01T18:36:40.180547Z",
     "shell.execute_reply": "2024-11-01T18:36:40.179184Z"
    },
    "papermill": {
     "duration": 0.352886,
     "end_time": "2024-11-01T18:36:40.183421",
     "exception": false,
     "start_time": "2024-11-01T18:36:39.830535",
     "status": "completed"
    },
    "tags": []
   },
   "outputs": [
    {
     "name": "stdout",
     "output_type": "stream",
     "text": [
      "Survived :\n",
      " Pclass\n",
      "1    136\n",
      "3    119\n",
      "2     87\n",
      "Name: count, dtype: int64\n",
      "Dead :\n",
      " Pclass\n",
      "3    372\n",
      "2     97\n",
      "1     80\n",
      "Name: count, dtype: int64\n"
     ]
    },
    {
     "data": {
      "image/png": "[encoded data removed]",
      "text/plain": [
       "<Figure size 1000x500 with 1 Axes>"
      ]
     },
     "metadata": {},
     "output_type": "display_data"
    }
   ],
   "source": [
    "bar_chart(\"Pclass\")\n",
    "print(\"Survived :\\n\", train[train[\"Survived\"] == 1][\"Pclass\"].value_counts())\n",
    "print(\"Dead :\\n\", train[train[\"Survived\"] == 0][\"Pclass\"].value_counts())"
   ]
  },
  {
   "cell_type": "markdown",
   "id": "07331e8b",
   "metadata": {
    "papermill": {
     "duration": 0.024622,
     "end_time": "2024-11-01T18:36:40.232995",
     "exception": false,
     "start_time": "2024-11-01T18:36:40.208373",
     "status": "completed"
    },
    "tags": []
   },
   "source": [
    "The Chart confirms 1st class more likely survivied than other classes.\n",
    "\n",
    "The Chart confirms 3rd class more likely dead than other classes"
   ]
  },
  {
   "cell_type": "code",
   "execution_count": 16,
   "id": "9331aeac",
   "metadata": {
    "execution": {
     "iopub.execute_input": "2024-11-01T18:36:40.285113Z",
     "iopub.status.busy": "2024-11-01T18:36:40.284646Z",
     "iopub.status.idle": "2024-11-01T18:36:40.668787Z",
     "shell.execute_reply": "2024-11-01T18:36:40.667547Z"
    },
    "papermill": {
     "duration": 0.413089,
     "end_time": "2024-11-01T18:36:40.671308",
     "exception": false,
     "start_time": "2024-11-01T18:36:40.258219",
     "status": "completed"
    },
    "tags": []
   },
   "outputs": [
    {
     "name": "stdout",
     "output_type": "stream",
     "text": [
      "Survived :\n",
      " SibSp\n",
      "0    210\n",
      "1    112\n",
      "2     13\n",
      "3      4\n",
      "4      3\n",
      "Name: count, dtype: int64\n",
      "Dead :\n",
      " SibSp\n",
      "0    398\n",
      "1     97\n",
      "4     15\n",
      "2     15\n",
      "3     12\n",
      "8      7\n",
      "5      5\n",
      "Name: count, dtype: int64\n"
     ]
    },
    {
     "data": {
      "image/png": "[encoded data removed]",
      "text/plain": [
       "<Figure size 1000x500 with 1 Axes>"
      ]
     },
     "metadata": {},
     "output_type": "display_data"
    }
   ],
   "source": [
    "bar_chart(\"SibSp\")\n",
    "print(\"Survived :\\n\", train[train[\"Survived\"] == 1][\"SibSp\"].value_counts())\n",
    "print(\"Dead :\\n\", train[train[\"Survived\"] == 0][\"SibSp\"].value_counts())      "
   ]
  },
  {
   "cell_type": "markdown",
   "id": "8f698aad",
   "metadata": {
    "papermill": {
     "duration": 0.024428,
     "end_time": "2024-11-01T18:36:40.720780",
     "exception": false,
     "start_time": "2024-11-01T18:36:40.696352",
     "status": "completed"
    },
    "tags": []
   },
   "source": [
    "The Chart confirms a person aboarded with more than 2 siblibgs or spouse more likely survived\n",
    "\n",
    "The Chart confirms a person aboarded without siblibgs or spouse more likely dead"
   ]
  },
  {
   "cell_type": "code",
   "execution_count": 17,
   "id": "f8c104f8",
   "metadata": {
    "execution": {
     "iopub.execute_input": "2024-11-01T18:36:40.773564Z",
     "iopub.status.busy": "2024-11-01T18:36:40.773122Z",
     "iopub.status.idle": "2024-11-01T18:36:41.215191Z",
     "shell.execute_reply": "2024-11-01T18:36:41.213816Z"
    },
    "papermill": {
     "duration": 0.471377,
     "end_time": "2024-11-01T18:36:41.217825",
     "exception": false,
     "start_time": "2024-11-01T18:36:40.746448",
     "status": "completed"
    },
    "tags": []
   },
   "outputs": [
    {
     "name": "stdout",
     "output_type": "stream",
     "text": [
      "Survived :\n",
      " Parch\n",
      "0    233\n",
      "1     65\n",
      "2     40\n",
      "3      3\n",
      "5      1\n",
      "Name: count, dtype: int64\n",
      "Dead :\n",
      " Parch\n",
      "0    445\n",
      "1     53\n",
      "2     40\n",
      "5      4\n",
      "4      4\n",
      "3      2\n",
      "6      1\n",
      "Name: count, dtype: int64\n"
     ]
    },
    {
     "data": {
      "image/png": "[encoded data removed]",
      "text/plain": [
       "<Figure size 1000x500 with 1 Axes>"
      ]
     },
     "metadata": {},
     "output_type": "display_data"
    }
   ],
   "source": [
    "bar_chart('Parch')\n",
    "\n",
    "print(\"Survived :\\n\", train[train[\"Survived\"] == 1][\"Parch\"].value_counts())\n",
    "print(\"Dead :\\n\", train[train[\"Survived\"] == 0][\"Parch\"].value_counts())"
   ]
  },
  {
   "cell_type": "markdown",
   "id": "fb456027",
   "metadata": {
    "papermill": {
     "duration": 0.02553,
     "end_time": "2024-11-01T18:36:41.269670",
     "exception": false,
     "start_time": "2024-11-01T18:36:41.244140",
     "status": "completed"
    },
    "tags": []
   },
   "source": [
    "The Chart confirms a person aboarded with more than 2 parents or children more likely survived\n",
    "\n",
    "The Chart confirms a person aboarded alone more likely dead"
   ]
  },
  {
   "cell_type": "code",
   "execution_count": 18,
   "id": "0cf2e3f9",
   "metadata": {
    "execution": {
     "iopub.execute_input": "2024-11-01T18:36:41.325473Z",
     "iopub.status.busy": "2024-11-01T18:36:41.324977Z",
     "iopub.status.idle": "2024-11-01T18:36:41.710684Z",
     "shell.execute_reply": "2024-11-01T18:36:41.708917Z"
    },
    "papermill": {
     "duration": 0.417277,
     "end_time": "2024-11-01T18:36:41.714010",
     "exception": false,
     "start_time": "2024-11-01T18:36:41.296733",
     "status": "completed"
    },
    "tags": []
   },
   "outputs": [
    {
     "name": "stdout",
     "output_type": "stream",
     "text": [
      "Survived :\n",
      " Embarked\n",
      "S    217\n",
      "C     93\n",
      "Q     30\n",
      "Name: count, dtype: int64\n",
      "Dead :\n",
      " Embarked\n",
      "S    427\n",
      "C     75\n",
      "Q     47\n",
      "Name: count, dtype: int64\n"
     ]
    },
    {
     "data": {
      "image/png": "[encoded data removed]",
      "text/plain": [
       "<Figure size 1000x500 with 1 Axes>"
      ]
     },
     "metadata": {},
     "output_type": "display_data"
    }
   ],
   "source": [
    "bar_chart(\"Embarked\")\n",
    "\n",
    "print(\"Survived :\\n\", train[train[\"Survived\"] == 1][\"Embarked\"].value_counts())\n",
    "print(\"Dead :\\n\", train[train[\"Survived\"] == 0][\"Embarked\"].value_counts())"
   ]
  },
  {
   "cell_type": "markdown",
   "id": "0ac9eab5",
   "metadata": {
    "papermill": {
     "duration": 0.028157,
     "end_time": "2024-11-01T18:36:41.769292",
     "exception": false,
     "start_time": "2024-11-01T18:36:41.741135",
     "status": "completed"
    },
    "tags": []
   },
   "source": [
    "The Chart confirms a person aboarded from C slightly more likely survived\n",
    "\n",
    "The Chart confirms a person aboarded from Q more likely dead\n",
    "\n",
    "The Chart confirms a person aboarded from S more likely dead"
   ]
  },
  {
   "cell_type": "markdown",
   "id": "022f84ea",
   "metadata": {
    "papermill": {
     "duration": 0.02682,
     "end_time": "2024-11-01T18:36:41.822943",
     "exception": false,
     "start_time": "2024-11-01T18:36:41.796123",
     "status": "completed"
    },
    "tags": []
   },
   "source": [
    "**Correlation Charts and Heatmaps**"
   ]
  },
  {
   "cell_type": "code",
   "execution_count": 19,
   "id": "576735ca",
   "metadata": {
    "execution": {
     "iopub.execute_input": "2024-11-01T18:36:41.879638Z",
     "iopub.status.busy": "2024-11-01T18:36:41.879165Z",
     "iopub.status.idle": "2024-11-01T18:36:42.581022Z",
     "shell.execute_reply": "2024-11-01T18:36:42.579512Z"
    },
    "papermill": {
     "duration": 0.732982,
     "end_time": "2024-11-01T18:36:42.584082",
     "exception": false,
     "start_time": "2024-11-01T18:36:41.851100",
     "status": "completed"
    },
    "tags": []
   },
   "outputs": [
    {
     "data": {
      "image/png": "[encoded data removed]",
      "text/plain": [
       "<Figure size 1200x800 with 2 Axes>"
      ]
     },
     "metadata": {},
     "output_type": "display_data"
    }
   ],
   "source": [
    "numeric_data = train.drop(columns=['Name']).select_dtypes(include=['number'])\n",
    "\n",
    "corr = numeric_data.corr()\n",
    "g = sns.heatmap(corr,  vmax=.3, center=0,\n",
    "            square=True, linewidths=1, cbar_kws={\"shrink\": .5}, annot=True, fmt='.2f', cmap='coolwarm')\n",
    "sns.despine()\n",
    "g.figure.set_size_inches(12,8)\n",
    "    \n",
    "plt.show()"
   ]
  },
  {
   "cell_type": "code",
   "execution_count": 20,
   "id": "cc25bfa1",
   "metadata": {
    "execution": {
     "iopub.execute_input": "2024-11-01T18:36:42.643944Z",
     "iopub.status.busy": "2024-11-01T18:36:42.643365Z",
     "iopub.status.idle": "2024-11-01T18:36:43.371910Z",
     "shell.execute_reply": "2024-11-01T18:36:43.370642Z"
    },
    "papermill": {
     "duration": 0.76102,
     "end_time": "2024-11-01T18:36:43.374941",
     "exception": false,
     "start_time": "2024-11-01T18:36:42.613921",
     "status": "completed"
    },
    "tags": []
   },
   "outputs": [
    {
     "data": {
      "image/png": "[encoded data removed]",
      "text/plain": [
       "<Figure size 1000x1000 with 2 Axes>"
      ]
     },
     "metadata": {},
     "output_type": "display_data"
    }
   ],
   "source": [
    "corr = numeric_data.corr()\n",
    "\n",
    "plt.figure(figsize=(10,10))\n",
    "sns.heatmap(corr, vmax=.8, linewidths=0.01,\n",
    "            square=True,annot=True,cmap='YlGnBu',linecolor=\"white\")\n",
    "\n",
    "plt.title('Correlation between features');"
   ]
  },
  {
   "cell_type": "markdown",
   "id": "6ad6a56c",
   "metadata": {
    "papermill": {
     "duration": 0.030802,
     "end_time": "2024-11-01T18:36:43.434969",
     "exception": false,
     "start_time": "2024-11-01T18:36:43.404167",
     "status": "completed"
    },
    "tags": []
   },
   "source": [
    "**Feature Extraction & Feature Engineering**"
   ]
  },
  {
   "cell_type": "markdown",
   "id": "a80db234",
   "metadata": {
    "papermill": {
     "duration": 0.033974,
     "end_time": "2024-11-01T18:36:43.506085",
     "exception": false,
     "start_time": "2024-11-01T18:36:43.472111",
     "status": "completed"
    },
    "tags": []
   },
   "source": [
    "**Title Mapping**"
   ]
  },
  {
   "cell_type": "code",
   "execution_count": 21,
   "id": "4e604eb9",
   "metadata": {
    "execution": {
     "iopub.execute_input": "2024-11-01T18:36:43.568154Z",
     "iopub.status.busy": "2024-11-01T18:36:43.567197Z",
     "iopub.status.idle": "2024-11-01T18:36:43.583083Z",
     "shell.execute_reply": "2024-11-01T18:36:43.581867Z"
    },
    "papermill": {
     "duration": 0.050667,
     "end_time": "2024-11-01T18:36:43.586481",
     "exception": false,
     "start_time": "2024-11-01T18:36:43.535814",
     "status": "completed"
    },
    "tags": []
   },
   "outputs": [],
   "source": [
    "train_test_data = [train,test] #combine dataset\n",
    "\n",
    "for dataset in train_test_data:\n",
    "    dataset[\"Title\"] = dataset[\"Name\"].str.extract('([A-Za-z]+)\\.', expand=False)"
   ]
  },
  {
   "cell_type": "code",
   "execution_count": 22,
   "id": "eb2b0d1e",
   "metadata": {
    "execution": {
     "iopub.execute_input": "2024-11-01T18:36:43.656016Z",
     "iopub.status.busy": "2024-11-01T18:36:43.655062Z",
     "iopub.status.idle": "2024-11-01T18:36:43.667369Z",
     "shell.execute_reply": "2024-11-01T18:36:43.665975Z"
    },
    "papermill": {
     "duration": 0.046339,
     "end_time": "2024-11-01T18:36:43.669992",
     "exception": false,
     "start_time": "2024-11-01T18:36:43.623653",
     "status": "completed"
    },
    "tags": []
   },
   "outputs": [
    {
     "data": {
      "text/plain": [
       "Title\n",
       "Mr          517\n",
       "Miss        182\n",
       "Mrs         125\n",
       "Master       40\n",
       "Dr            7\n",
       "Rev           6\n",
       "Mlle          2\n",
       "Major         2\n",
       "Col           2\n",
       "Countess      1\n",
       "Capt          1\n",
       "Ms            1\n",
       "Sir           1\n",
       "Lady          1\n",
       "Mme           1\n",
       "Don           1\n",
       "Jonkheer      1\n",
       "Name: count, dtype: int64"
      ]
     },
     "execution_count": 22,
     "metadata": {},
     "output_type": "execute_result"
    }
   ],
   "source": [
    "train[\"Title\"].value_counts()"
   ]
  },
  {
   "cell_type": "code",
   "execution_count": 23,
   "id": "86aa30e4",
   "metadata": {
    "execution": {
     "iopub.execute_input": "2024-11-01T18:36:43.732355Z",
     "iopub.status.busy": "2024-11-01T18:36:43.731794Z",
     "iopub.status.idle": "2024-11-01T18:36:43.743807Z",
     "shell.execute_reply": "2024-11-01T18:36:43.742465Z"
    },
    "papermill": {
     "duration": 0.045735,
     "end_time": "2024-11-01T18:36:43.746521",
     "exception": false,
     "start_time": "2024-11-01T18:36:43.700786",
     "status": "completed"
    },
    "tags": []
   },
   "outputs": [
    {
     "data": {
      "text/plain": [
       "Title\n",
       "Mr        240\n",
       "Miss       78\n",
       "Mrs        72\n",
       "Master     21\n",
       "Col         2\n",
       "Rev         2\n",
       "Ms          1\n",
       "Dr          1\n",
       "Dona        1\n",
       "Name: count, dtype: int64"
      ]
     },
     "execution_count": 23,
     "metadata": {},
     "output_type": "execute_result"
    }
   ],
   "source": [
    "test[\"Title\"].value_counts()"
   ]
  },
  {
   "cell_type": "code",
   "execution_count": 24,
   "id": "de2cd1c8",
   "metadata": {
    "execution": {
     "iopub.execute_input": "2024-11-01T18:36:43.813850Z",
     "iopub.status.busy": "2024-11-01T18:36:43.813274Z",
     "iopub.status.idle": "2024-11-01T18:36:43.827165Z",
     "shell.execute_reply": "2024-11-01T18:36:43.825817Z"
    },
    "papermill": {
     "duration": 0.050756,
     "end_time": "2024-11-01T18:36:43.830199",
     "exception": false,
     "start_time": "2024-11-01T18:36:43.779443",
     "status": "completed"
    },
    "tags": []
   },
   "outputs": [],
   "source": [
    "title_mapping = {\"Mr\": 0, \"Miss\": 1, \"Mrs\": 2, \n",
    "                 \"Master\": 3, \"Dr\": 3, \"Rev\": 3, \"Col\": 3, \"Major\": 3, \"Mlle\": 3,\"Countess\": 3,\n",
    "                 \"Ms\": 3, \"Lady\": 3, \"Jonkheer\": 3, \"Don\": 3, \"Dona\" : 3, \"Mme\": 3,\"Capt\": 3,\"Sir\": 3 }\n",
    "\n",
    "for dataset in train_test_data:\n",
    "    dataset['Title'] = dataset[\"Title\"].map(title_mapping)"
   ]
  },
  {
   "cell_type": "code",
   "execution_count": 25,
   "id": "4893cdd2",
   "metadata": {
    "execution": {
     "iopub.execute_input": "2024-11-01T18:36:43.893421Z",
     "iopub.status.busy": "2024-11-01T18:36:43.892409Z",
     "iopub.status.idle": "2024-11-01T18:36:43.919076Z",
     "shell.execute_reply": "2024-11-01T18:36:43.917334Z"
    },
    "papermill": {
     "duration": 0.060984,
     "end_time": "2024-11-01T18:36:43.921854",
     "exception": false,
     "start_time": "2024-11-01T18:36:43.860870",
     "status": "completed"
    },
    "tags": []
   },
   "outputs": [
    {
     "data": {
      "text/html": [
       "<div>\n",
       "<style scoped>\n",
       "    .dataframe tbody tr th:only-of-type {\n",
       "        vertical-align: middle;\n",
       "    }\n",
       "\n",
       "    .dataframe tbody tr th {\n",
       "        vertical-align: top;\n",
       "    }\n",
       "\n",
       "    .dataframe thead th {\n",
       "        text-align: right;\n",
       "    }\n",
       "</style>\n",
       "<table border=\"1\" class=\"dataframe\">\n",
       "  <thead>\n",
       "    <tr style=\"text-align: right;\">\n",
       "      <th></th>\n",
       "      <th>PassengerId</th>\n",
       "      <th>Pclass</th>\n",
       "      <th>Name</th>\n",
       "      <th>Sex</th>\n",
       "      <th>Age</th>\n",
       "      <th>SibSp</th>\n",
       "      <th>Parch</th>\n",
       "      <th>Ticket</th>\n",
       "      <th>Fare</th>\n",
       "      <th>Cabin</th>\n",
       "      <th>Embarked</th>\n",
       "      <th>Survived</th>\n",
       "      <th>Title</th>\n",
       "    </tr>\n",
       "  </thead>\n",
       "  <tbody>\n",
       "    <tr>\n",
       "      <th>0</th>\n",
       "      <td>892</td>\n",
       "      <td>3</td>\n",
       "      <td>Kelly, Mr. James</td>\n",
       "      <td>male</td>\n",
       "      <td>34.5</td>\n",
       "      <td>0</td>\n",
       "      <td>0</td>\n",
       "      <td>330911</td>\n",
       "      <td>7.8292</td>\n",
       "      <td>NaN</td>\n",
       "      <td>Q</td>\n",
       "      <td></td>\n",
       "      <td>0</td>\n",
       "    </tr>\n",
       "    <tr>\n",
       "      <th>1</th>\n",
       "      <td>893</td>\n",
       "      <td>3</td>\n",
       "      <td>Wilkes, Mrs. James (Ellen Needs)</td>\n",
       "      <td>female</td>\n",
       "      <td>47.0</td>\n",
       "      <td>1</td>\n",
       "      <td>0</td>\n",
       "      <td>363272</td>\n",
       "      <td>7.0000</td>\n",
       "      <td>NaN</td>\n",
       "      <td>S</td>\n",
       "      <td></td>\n",
       "      <td>2</td>\n",
       "    </tr>\n",
       "    <tr>\n",
       "      <th>2</th>\n",
       "      <td>894</td>\n",
       "      <td>2</td>\n",
       "      <td>Myles, Mr. Thomas Francis</td>\n",
       "      <td>male</td>\n",
       "      <td>62.0</td>\n",
       "      <td>0</td>\n",
       "      <td>0</td>\n",
       "      <td>240276</td>\n",
       "      <td>9.6875</td>\n",
       "      <td>NaN</td>\n",
       "      <td>Q</td>\n",
       "      <td></td>\n",
       "      <td>0</td>\n",
       "    </tr>\n",
       "    <tr>\n",
       "      <th>3</th>\n",
       "      <td>895</td>\n",
       "      <td>3</td>\n",
       "      <td>Wirz, Mr. Albert</td>\n",
       "      <td>male</td>\n",
       "      <td>27.0</td>\n",
       "      <td>0</td>\n",
       "      <td>0</td>\n",
       "      <td>315154</td>\n",
       "      <td>8.6625</td>\n",
       "      <td>NaN</td>\n",
       "      <td>S</td>\n",
       "      <td></td>\n",
       "      <td>0</td>\n",
       "    </tr>\n",
       "    <tr>\n",
       "      <th>4</th>\n",
       "      <td>896</td>\n",
       "      <td>3</td>\n",
       "      <td>Hirvonen, Mrs. Alexander (Helga E Lindqvist)</td>\n",
       "      <td>female</td>\n",
       "      <td>22.0</td>\n",
       "      <td>1</td>\n",
       "      <td>1</td>\n",
       "      <td>3101298</td>\n",
       "      <td>12.2875</td>\n",
       "      <td>NaN</td>\n",
       "      <td>S</td>\n",
       "      <td></td>\n",
       "      <td>2</td>\n",
       "    </tr>\n",
       "  </tbody>\n",
       "</table>\n",
       "</div>"
      ],
      "text/plain": [
       "   PassengerId  Pclass                                          Name     Sex  \\\n",
       "0          892       3                              Kelly, Mr. James    male   \n",
       "1          893       3              Wilkes, Mrs. James (Ellen Needs)  female   \n",
       "2          894       2                     Myles, Mr. Thomas Francis    male   \n",
       "3          895       3                              Wirz, Mr. Albert    male   \n",
       "4          896       3  Hirvonen, Mrs. Alexander (Helga E Lindqvist)  female   \n",
       "\n",
       "    Age  SibSp  Parch   Ticket     Fare Cabin Embarked Survived  Title  \n",
       "0  34.5      0      0   330911   7.8292   NaN        Q               0  \n",
       "1  47.0      1      0   363272   7.0000   NaN        S               2  \n",
       "2  62.0      0      0   240276   9.6875   NaN        Q               0  \n",
       "3  27.0      0      0   315154   8.6625   NaN        S               0  \n",
       "4  22.0      1      1  3101298  12.2875   NaN        S               2  "
      ]
     },
     "execution_count": 25,
     "metadata": {},
     "output_type": "execute_result"
    }
   ],
   "source": [
    "dataset.head()"
   ]
  },
  {
   "cell_type": "code",
   "execution_count": 26,
   "id": "b6254722",
   "metadata": {
    "execution": {
     "iopub.execute_input": "2024-11-01T18:36:43.996387Z",
     "iopub.status.busy": "2024-11-01T18:36:43.995907Z",
     "iopub.status.idle": "2024-11-01T18:36:44.372754Z",
     "shell.execute_reply": "2024-11-01T18:36:44.371547Z"
    },
    "papermill": {
     "duration": 0.420072,
     "end_time": "2024-11-01T18:36:44.375547",
     "exception": false,
     "start_time": "2024-11-01T18:36:43.955475",
     "status": "completed"
    },
    "tags": []
   },
   "outputs": [
    {
     "data": {
      "image/png": "[encoded data removed]",
      "text/plain": [
       "<Figure size 1000x500 with 1 Axes>"
      ]
     },
     "metadata": {},
     "output_type": "display_data"
    }
   ],
   "source": [
    "bar_chart(\"Title\")"
   ]
  },
  {
   "cell_type": "code",
   "execution_count": 27,
   "id": "55e349fb",
   "metadata": {
    "execution": {
     "iopub.execute_input": "2024-11-01T18:36:44.442181Z",
     "iopub.status.busy": "2024-11-01T18:36:44.441133Z",
     "iopub.status.idle": "2024-11-01T18:36:44.449333Z",
     "shell.execute_reply": "2024-11-01T18:36:44.448168Z"
    },
    "papermill": {
     "duration": 0.045037,
     "end_time": "2024-11-01T18:36:44.452208",
     "exception": false,
     "start_time": "2024-11-01T18:36:44.407171",
     "status": "completed"
    },
    "tags": []
   },
   "outputs": [],
   "source": [
    "#Delete unnecessary feature from dataset\n",
    "train.drop(\"Name\", axis=1, inplace=True)\n",
    "test.drop(\"Name\", axis=1, inplace=True)"
   ]
  },
  {
   "cell_type": "code",
   "execution_count": 28,
   "id": "0a8c8feb",
   "metadata": {
    "execution": {
     "iopub.execute_input": "2024-11-01T18:36:44.522790Z",
     "iopub.status.busy": "2024-11-01T18:36:44.522242Z",
     "iopub.status.idle": "2024-11-01T18:36:44.545512Z",
     "shell.execute_reply": "2024-11-01T18:36:44.544194Z"
    },
    "papermill": {
     "duration": 0.060822,
     "end_time": "2024-11-01T18:36:44.548200",
     "exception": false,
     "start_time": "2024-11-01T18:36:44.487378",
     "status": "completed"
    },
    "tags": []
   },
   "outputs": [
    {
     "data": {
      "text/html": [
       "<div>\n",
       "<style scoped>\n",
       "    .dataframe tbody tr th:only-of-type {\n",
       "        vertical-align: middle;\n",
       "    }\n",
       "\n",
       "    .dataframe tbody tr th {\n",
       "        vertical-align: top;\n",
       "    }\n",
       "\n",
       "    .dataframe thead th {\n",
       "        text-align: right;\n",
       "    }\n",
       "</style>\n",
       "<table border=\"1\" class=\"dataframe\">\n",
       "  <thead>\n",
       "    <tr style=\"text-align: right;\">\n",
       "      <th></th>\n",
       "      <th>PassengerId</th>\n",
       "      <th>Survived</th>\n",
       "      <th>Pclass</th>\n",
       "      <th>Sex</th>\n",
       "      <th>Age</th>\n",
       "      <th>SibSp</th>\n",
       "      <th>Parch</th>\n",
       "      <th>Ticket</th>\n",
       "      <th>Fare</th>\n",
       "      <th>Cabin</th>\n",
       "      <th>Embarked</th>\n",
       "      <th>Title</th>\n",
       "    </tr>\n",
       "  </thead>\n",
       "  <tbody>\n",
       "    <tr>\n",
       "      <th>0</th>\n",
       "      <td>1</td>\n",
       "      <td>0</td>\n",
       "      <td>3</td>\n",
       "      <td>male</td>\n",
       "      <td>22.0</td>\n",
       "      <td>1</td>\n",
       "      <td>0</td>\n",
       "      <td>A/5 21171</td>\n",
       "      <td>7.2500</td>\n",
       "      <td>NaN</td>\n",
       "      <td>S</td>\n",
       "      <td>0</td>\n",
       "    </tr>\n",
       "    <tr>\n",
       "      <th>1</th>\n",
       "      <td>2</td>\n",
       "      <td>1</td>\n",
       "      <td>1</td>\n",
       "      <td>female</td>\n",
       "      <td>38.0</td>\n",
       "      <td>1</td>\n",
       "      <td>0</td>\n",
       "      <td>PC 17599</td>\n",
       "      <td>71.2833</td>\n",
       "      <td>C85</td>\n",
       "      <td>C</td>\n",
       "      <td>2</td>\n",
       "    </tr>\n",
       "    <tr>\n",
       "      <th>2</th>\n",
       "      <td>3</td>\n",
       "      <td>1</td>\n",
       "      <td>3</td>\n",
       "      <td>female</td>\n",
       "      <td>26.0</td>\n",
       "      <td>0</td>\n",
       "      <td>0</td>\n",
       "      <td>STON/O2. 3101282</td>\n",
       "      <td>7.9250</td>\n",
       "      <td>NaN</td>\n",
       "      <td>S</td>\n",
       "      <td>1</td>\n",
       "    </tr>\n",
       "    <tr>\n",
       "      <th>3</th>\n",
       "      <td>4</td>\n",
       "      <td>1</td>\n",
       "      <td>1</td>\n",
       "      <td>female</td>\n",
       "      <td>35.0</td>\n",
       "      <td>1</td>\n",
       "      <td>0</td>\n",
       "      <td>113803</td>\n",
       "      <td>53.1000</td>\n",
       "      <td>C123</td>\n",
       "      <td>S</td>\n",
       "      <td>2</td>\n",
       "    </tr>\n",
       "    <tr>\n",
       "      <th>4</th>\n",
       "      <td>5</td>\n",
       "      <td>0</td>\n",
       "      <td>3</td>\n",
       "      <td>male</td>\n",
       "      <td>35.0</td>\n",
       "      <td>0</td>\n",
       "      <td>0</td>\n",
       "      <td>373450</td>\n",
       "      <td>8.0500</td>\n",
       "      <td>NaN</td>\n",
       "      <td>S</td>\n",
       "      <td>0</td>\n",
       "    </tr>\n",
       "  </tbody>\n",
       "</table>\n",
       "</div>"
      ],
      "text/plain": [
       "   PassengerId  Survived  Pclass     Sex   Age  SibSp  Parch  \\\n",
       "0            1         0       3    male  22.0      1      0   \n",
       "1            2         1       1  female  38.0      1      0   \n",
       "2            3         1       3  female  26.0      0      0   \n",
       "3            4         1       1  female  35.0      1      0   \n",
       "4            5         0       3    male  35.0      0      0   \n",
       "\n",
       "             Ticket     Fare Cabin Embarked  Title  \n",
       "0         A/5 21171   7.2500   NaN        S      0  \n",
       "1          PC 17599  71.2833   C85        C      2  \n",
       "2  STON/O2. 3101282   7.9250   NaN        S      1  \n",
       "3            113803  53.1000  C123        S      2  \n",
       "4            373450   8.0500   NaN        S      0  "
      ]
     },
     "execution_count": 28,
     "metadata": {},
     "output_type": "execute_result"
    }
   ],
   "source": [
    "train.head()"
   ]
  },
  {
   "cell_type": "markdown",
   "id": "5bc35bce",
   "metadata": {
    "papermill": {
     "duration": 0.032061,
     "end_time": "2024-11-01T18:36:44.611446",
     "exception": false,
     "start_time": "2024-11-01T18:36:44.579385",
     "status": "completed"
    },
    "tags": []
   },
   "source": [
    "**Gender Mapping**"
   ]
  },
  {
   "cell_type": "code",
   "execution_count": 29,
   "id": "0efdad94",
   "metadata": {
    "execution": {
     "iopub.execute_input": "2024-11-01T18:36:44.677463Z",
     "iopub.status.busy": "2024-11-01T18:36:44.676093Z",
     "iopub.status.idle": "2024-11-01T18:36:44.686553Z",
     "shell.execute_reply": "2024-11-01T18:36:44.685321Z"
    },
    "papermill": {
     "duration": 0.046325,
     "end_time": "2024-11-01T18:36:44.689399",
     "exception": false,
     "start_time": "2024-11-01T18:36:44.643074",
     "status": "completed"
    },
    "tags": []
   },
   "outputs": [],
   "source": [
    "sex_mapping = {\"male\": 0, \"female\": 1}\n",
    "\n",
    "for dataset in train_test_data:\n",
    "    dataset[\"Sex\"] = dataset[\"Sex\"].map(sex_mapping)"
   ]
  },
  {
   "cell_type": "code",
   "execution_count": 30,
   "id": "32640295",
   "metadata": {
    "execution": {
     "iopub.execute_input": "2024-11-01T18:36:44.752912Z",
     "iopub.status.busy": "2024-11-01T18:36:44.752380Z",
     "iopub.status.idle": "2024-11-01T18:36:45.091907Z",
     "shell.execute_reply": "2024-11-01T18:36:45.090580Z"
    },
    "papermill": {
     "duration": 0.374947,
     "end_time": "2024-11-01T18:36:45.095170",
     "exception": false,
     "start_time": "2024-11-01T18:36:44.720223",
     "status": "completed"
    },
    "tags": []
   },
   "outputs": [
    {
     "data": {
      "image/png": "[encoded data removed]",
      "text/plain": [
       "<Figure size 1000x500 with 1 Axes>"
      ]
     },
     "metadata": {},
     "output_type": "display_data"
    }
   ],
   "source": [
    "bar_chart(\"Sex\")"
   ]
  },
  {
   "cell_type": "code",
   "execution_count": 31,
   "id": "e5c85e24",
   "metadata": {
    "execution": {
     "iopub.execute_input": "2024-11-01T18:36:45.163036Z",
     "iopub.status.busy": "2024-11-01T18:36:45.162577Z",
     "iopub.status.idle": "2024-11-01T18:36:45.181486Z",
     "shell.execute_reply": "2024-11-01T18:36:45.180333Z"
    },
    "papermill": {
     "duration": 0.053574,
     "end_time": "2024-11-01T18:36:45.184108",
     "exception": false,
     "start_time": "2024-11-01T18:36:45.130534",
     "status": "completed"
    },
    "tags": []
   },
   "outputs": [
    {
     "data": {
      "text/html": [
       "<div>\n",
       "<style scoped>\n",
       "    .dataframe tbody tr th:only-of-type {\n",
       "        vertical-align: middle;\n",
       "    }\n",
       "\n",
       "    .dataframe tbody tr th {\n",
       "        vertical-align: top;\n",
       "    }\n",
       "\n",
       "    .dataframe thead th {\n",
       "        text-align: right;\n",
       "    }\n",
       "</style>\n",
       "<table border=\"1\" class=\"dataframe\">\n",
       "  <thead>\n",
       "    <tr style=\"text-align: right;\">\n",
       "      <th></th>\n",
       "      <th>PassengerId</th>\n",
       "      <th>Pclass</th>\n",
       "      <th>Sex</th>\n",
       "      <th>Age</th>\n",
       "      <th>SibSp</th>\n",
       "      <th>Parch</th>\n",
       "      <th>Ticket</th>\n",
       "      <th>Fare</th>\n",
       "      <th>Cabin</th>\n",
       "      <th>Embarked</th>\n",
       "      <th>Survived</th>\n",
       "      <th>Title</th>\n",
       "    </tr>\n",
       "  </thead>\n",
       "  <tbody>\n",
       "    <tr>\n",
       "      <th>0</th>\n",
       "      <td>892</td>\n",
       "      <td>3</td>\n",
       "      <td>0</td>\n",
       "      <td>34.5</td>\n",
       "      <td>0</td>\n",
       "      <td>0</td>\n",
       "      <td>330911</td>\n",
       "      <td>7.8292</td>\n",
       "      <td>NaN</td>\n",
       "      <td>Q</td>\n",
       "      <td></td>\n",
       "      <td>0</td>\n",
       "    </tr>\n",
       "    <tr>\n",
       "      <th>1</th>\n",
       "      <td>893</td>\n",
       "      <td>3</td>\n",
       "      <td>1</td>\n",
       "      <td>47.0</td>\n",
       "      <td>1</td>\n",
       "      <td>0</td>\n",
       "      <td>363272</td>\n",
       "      <td>7.0000</td>\n",
       "      <td>NaN</td>\n",
       "      <td>S</td>\n",
       "      <td></td>\n",
       "      <td>2</td>\n",
       "    </tr>\n",
       "    <tr>\n",
       "      <th>2</th>\n",
       "      <td>894</td>\n",
       "      <td>2</td>\n",
       "      <td>0</td>\n",
       "      <td>62.0</td>\n",
       "      <td>0</td>\n",
       "      <td>0</td>\n",
       "      <td>240276</td>\n",
       "      <td>9.6875</td>\n",
       "      <td>NaN</td>\n",
       "      <td>Q</td>\n",
       "      <td></td>\n",
       "      <td>0</td>\n",
       "    </tr>\n",
       "    <tr>\n",
       "      <th>3</th>\n",
       "      <td>895</td>\n",
       "      <td>3</td>\n",
       "      <td>0</td>\n",
       "      <td>27.0</td>\n",
       "      <td>0</td>\n",
       "      <td>0</td>\n",
       "      <td>315154</td>\n",
       "      <td>8.6625</td>\n",
       "      <td>NaN</td>\n",
       "      <td>S</td>\n",
       "      <td></td>\n",
       "      <td>0</td>\n",
       "    </tr>\n",
       "    <tr>\n",
       "      <th>4</th>\n",
       "      <td>896</td>\n",
       "      <td>3</td>\n",
       "      <td>1</td>\n",
       "      <td>22.0</td>\n",
       "      <td>1</td>\n",
       "      <td>1</td>\n",
       "      <td>3101298</td>\n",
       "      <td>12.2875</td>\n",
       "      <td>NaN</td>\n",
       "      <td>S</td>\n",
       "      <td></td>\n",
       "      <td>2</td>\n",
       "    </tr>\n",
       "  </tbody>\n",
       "</table>\n",
       "</div>"
      ],
      "text/plain": [
       "   PassengerId  Pclass  Sex   Age  SibSp  Parch   Ticket     Fare Cabin  \\\n",
       "0          892       3    0  34.5      0      0   330911   7.8292   NaN   \n",
       "1          893       3    1  47.0      1      0   363272   7.0000   NaN   \n",
       "2          894       2    0  62.0      0      0   240276   9.6875   NaN   \n",
       "3          895       3    0  27.0      0      0   315154   8.6625   NaN   \n",
       "4          896       3    1  22.0      1      1  3101298  12.2875   NaN   \n",
       "\n",
       "  Embarked Survived  Title  \n",
       "0        Q               0  \n",
       "1        S               2  \n",
       "2        Q               0  \n",
       "3        S               0  \n",
       "4        S               2  "
      ]
     },
     "execution_count": 31,
     "metadata": {},
     "output_type": "execute_result"
    }
   ],
   "source": [
    "test.head()"
   ]
  },
  {
   "cell_type": "markdown",
   "id": "6076bb38",
   "metadata": {
    "papermill": {
     "duration": 0.03037,
     "end_time": "2024-11-01T18:36:45.245392",
     "exception": false,
     "start_time": "2024-11-01T18:36:45.215022",
     "status": "completed"
    },
    "tags": []
   },
   "source": [
    "**Age Mapping & Binning**"
   ]
  },
  {
   "cell_type": "code",
   "execution_count": 32,
   "id": "8f19ac48",
   "metadata": {
    "execution": {
     "iopub.execute_input": "2024-11-01T18:36:45.308798Z",
     "iopub.status.busy": "2024-11-01T18:36:45.308367Z",
     "iopub.status.idle": "2024-11-01T18:36:45.320910Z",
     "shell.execute_reply": "2024-11-01T18:36:45.319580Z"
    },
    "papermill": {
     "duration": 0.047666,
     "end_time": "2024-11-01T18:36:45.323685",
     "exception": false,
     "start_time": "2024-11-01T18:36:45.276019",
     "status": "completed"
    },
    "tags": []
   },
   "outputs": [],
   "source": [
    "# Fills in missing values in the Age column by using the median age of people with the same title\n",
    "train[\"Age\"] = train[\"Age\"].fillna(train.groupby(\"Title\")[\"Age\"].transform(\"median\"))\n",
    "test[\"Age\"] = test[\"Age\"].fillna(test.groupby(\"Title\")[\"Age\"].transform(\"median\"))"
   ]
  },
  {
   "cell_type": "code",
   "execution_count": 33,
   "id": "e52ac1fa",
   "metadata": {
    "execution": {
     "iopub.execute_input": "2024-11-01T18:36:45.386884Z",
     "iopub.status.busy": "2024-11-01T18:36:45.386449Z",
     "iopub.status.idle": "2024-11-01T18:36:45.408991Z",
     "shell.execute_reply": "2024-11-01T18:36:45.407686Z"
    },
    "papermill": {
     "duration": 0.057226,
     "end_time": "2024-11-01T18:36:45.411635",
     "exception": false,
     "start_time": "2024-11-01T18:36:45.354409",
     "status": "completed"
    },
    "tags": []
   },
   "outputs": [
    {
     "data": {
      "text/html": [
       "<div>\n",
       "<style scoped>\n",
       "    .dataframe tbody tr th:only-of-type {\n",
       "        vertical-align: middle;\n",
       "    }\n",
       "\n",
       "    .dataframe tbody tr th {\n",
       "        vertical-align: top;\n",
       "    }\n",
       "\n",
       "    .dataframe thead th {\n",
       "        text-align: right;\n",
       "    }\n",
       "</style>\n",
       "<table border=\"1\" class=\"dataframe\">\n",
       "  <thead>\n",
       "    <tr style=\"text-align: right;\">\n",
       "      <th></th>\n",
       "      <th>PassengerId</th>\n",
       "      <th>Survived</th>\n",
       "      <th>Pclass</th>\n",
       "      <th>Sex</th>\n",
       "      <th>Age</th>\n",
       "      <th>SibSp</th>\n",
       "      <th>Parch</th>\n",
       "      <th>Ticket</th>\n",
       "      <th>Fare</th>\n",
       "      <th>Cabin</th>\n",
       "      <th>Embarked</th>\n",
       "      <th>Title</th>\n",
       "    </tr>\n",
       "  </thead>\n",
       "  <tbody>\n",
       "    <tr>\n",
       "      <th>0</th>\n",
       "      <td>1</td>\n",
       "      <td>0</td>\n",
       "      <td>3</td>\n",
       "      <td>0</td>\n",
       "      <td>22.0</td>\n",
       "      <td>1</td>\n",
       "      <td>0</td>\n",
       "      <td>A/5 21171</td>\n",
       "      <td>7.2500</td>\n",
       "      <td>NaN</td>\n",
       "      <td>S</td>\n",
       "      <td>0</td>\n",
       "    </tr>\n",
       "    <tr>\n",
       "      <th>1</th>\n",
       "      <td>2</td>\n",
       "      <td>1</td>\n",
       "      <td>1</td>\n",
       "      <td>1</td>\n",
       "      <td>38.0</td>\n",
       "      <td>1</td>\n",
       "      <td>0</td>\n",
       "      <td>PC 17599</td>\n",
       "      <td>71.2833</td>\n",
       "      <td>C85</td>\n",
       "      <td>C</td>\n",
       "      <td>2</td>\n",
       "    </tr>\n",
       "    <tr>\n",
       "      <th>2</th>\n",
       "      <td>3</td>\n",
       "      <td>1</td>\n",
       "      <td>3</td>\n",
       "      <td>1</td>\n",
       "      <td>26.0</td>\n",
       "      <td>0</td>\n",
       "      <td>0</td>\n",
       "      <td>STON/O2. 3101282</td>\n",
       "      <td>7.9250</td>\n",
       "      <td>NaN</td>\n",
       "      <td>S</td>\n",
       "      <td>1</td>\n",
       "    </tr>\n",
       "    <tr>\n",
       "      <th>3</th>\n",
       "      <td>4</td>\n",
       "      <td>1</td>\n",
       "      <td>1</td>\n",
       "      <td>1</td>\n",
       "      <td>35.0</td>\n",
       "      <td>1</td>\n",
       "      <td>0</td>\n",
       "      <td>113803</td>\n",
       "      <td>53.1000</td>\n",
       "      <td>C123</td>\n",
       "      <td>S</td>\n",
       "      <td>2</td>\n",
       "    </tr>\n",
       "    <tr>\n",
       "      <th>4</th>\n",
       "      <td>5</td>\n",
       "      <td>0</td>\n",
       "      <td>3</td>\n",
       "      <td>0</td>\n",
       "      <td>35.0</td>\n",
       "      <td>0</td>\n",
       "      <td>0</td>\n",
       "      <td>373450</td>\n",
       "      <td>8.0500</td>\n",
       "      <td>NaN</td>\n",
       "      <td>S</td>\n",
       "      <td>0</td>\n",
       "    </tr>\n",
       "    <tr>\n",
       "      <th>5</th>\n",
       "      <td>6</td>\n",
       "      <td>0</td>\n",
       "      <td>3</td>\n",
       "      <td>0</td>\n",
       "      <td>30.0</td>\n",
       "      <td>0</td>\n",
       "      <td>0</td>\n",
       "      <td>330877</td>\n",
       "      <td>8.4583</td>\n",
       "      <td>NaN</td>\n",
       "      <td>Q</td>\n",
       "      <td>0</td>\n",
       "    </tr>\n",
       "    <tr>\n",
       "      <th>6</th>\n",
       "      <td>7</td>\n",
       "      <td>0</td>\n",
       "      <td>1</td>\n",
       "      <td>0</td>\n",
       "      <td>54.0</td>\n",
       "      <td>0</td>\n",
       "      <td>0</td>\n",
       "      <td>17463</td>\n",
       "      <td>51.8625</td>\n",
       "      <td>E46</td>\n",
       "      <td>S</td>\n",
       "      <td>0</td>\n",
       "    </tr>\n",
       "    <tr>\n",
       "      <th>7</th>\n",
       "      <td>8</td>\n",
       "      <td>0</td>\n",
       "      <td>3</td>\n",
       "      <td>0</td>\n",
       "      <td>2.0</td>\n",
       "      <td>3</td>\n",
       "      <td>1</td>\n",
       "      <td>349909</td>\n",
       "      <td>21.0750</td>\n",
       "      <td>NaN</td>\n",
       "      <td>S</td>\n",
       "      <td>3</td>\n",
       "    </tr>\n",
       "    <tr>\n",
       "      <th>8</th>\n",
       "      <td>9</td>\n",
       "      <td>1</td>\n",
       "      <td>3</td>\n",
       "      <td>1</td>\n",
       "      <td>27.0</td>\n",
       "      <td>0</td>\n",
       "      <td>2</td>\n",
       "      <td>347742</td>\n",
       "      <td>11.1333</td>\n",
       "      <td>NaN</td>\n",
       "      <td>S</td>\n",
       "      <td>2</td>\n",
       "    </tr>\n",
       "    <tr>\n",
       "      <th>9</th>\n",
       "      <td>10</td>\n",
       "      <td>1</td>\n",
       "      <td>2</td>\n",
       "      <td>1</td>\n",
       "      <td>14.0</td>\n",
       "      <td>1</td>\n",
       "      <td>0</td>\n",
       "      <td>237736</td>\n",
       "      <td>30.0708</td>\n",
       "      <td>NaN</td>\n",
       "      <td>C</td>\n",
       "      <td>2</td>\n",
       "    </tr>\n",
       "  </tbody>\n",
       "</table>\n",
       "</div>"
      ],
      "text/plain": [
       "   PassengerId  Survived  Pclass  Sex   Age  SibSp  Parch            Ticket  \\\n",
       "0            1         0       3    0  22.0      1      0         A/5 21171   \n",
       "1            2         1       1    1  38.0      1      0          PC 17599   \n",
       "2            3         1       3    1  26.0      0      0  STON/O2. 3101282   \n",
       "3            4         1       1    1  35.0      1      0            113803   \n",
       "4            5         0       3    0  35.0      0      0            373450   \n",
       "5            6         0       3    0  30.0      0      0            330877   \n",
       "6            7         0       1    0  54.0      0      0             17463   \n",
       "7            8         0       3    0   2.0      3      1            349909   \n",
       "8            9         1       3    1  27.0      0      2            347742   \n",
       "9           10         1       2    1  14.0      1      0            237736   \n",
       "\n",
       "      Fare Cabin Embarked  Title  \n",
       "0   7.2500   NaN        S      0  \n",
       "1  71.2833   C85        C      2  \n",
       "2   7.9250   NaN        S      1  \n",
       "3  53.1000  C123        S      2  \n",
       "4   8.0500   NaN        S      0  \n",
       "5   8.4583   NaN        Q      0  \n",
       "6  51.8625   E46        S      0  \n",
       "7  21.0750   NaN        S      3  \n",
       "8  11.1333   NaN        S      2  \n",
       "9  30.0708   NaN        C      2  "
      ]
     },
     "execution_count": 33,
     "metadata": {},
     "output_type": "execute_result"
    }
   ],
   "source": [
    "train.head(10)"
   ]
  },
  {
   "cell_type": "code",
   "execution_count": 34,
   "id": "fe655add",
   "metadata": {
    "execution": {
     "iopub.execute_input": "2024-11-01T18:36:45.478681Z",
     "iopub.status.busy": "2024-11-01T18:36:45.478210Z",
     "iopub.status.idle": "2024-11-01T18:36:46.453079Z",
     "shell.execute_reply": "2024-11-01T18:36:46.451893Z"
    },
    "papermill": {
     "duration": 1.012163,
     "end_time": "2024-11-01T18:36:46.456121",
     "exception": false,
     "start_time": "2024-11-01T18:36:45.443958",
     "status": "completed"
    },
    "tags": []
   },
   "outputs": [
    {
     "name": "stderr",
     "output_type": "stream",
     "text": [
      "/opt/conda/lib/python3.10/site-packages/seaborn/axisgrid.py:848: FutureWarning: \n",
      "\n",
      "`shade` is now deprecated in favor of `fill`; setting `fill=True`.\n",
      "This will become an error in seaborn v0.14.0; please update your code.\n",
      "\n",
      "  func(*plot_args, **plot_kwargs)\n",
      "/opt/conda/lib/python3.10/site-packages/seaborn/_oldcore.py:1119: FutureWarning: use_inf_as_na option is deprecated and will be removed in a future version. Convert inf values to NaN before operating instead.\n",
      "  with pd.option_context('mode.use_inf_as_na', True):\n",
      "/opt/conda/lib/python3.10/site-packages/seaborn/axisgrid.py:848: FutureWarning: \n",
      "\n",
      "`shade` is now deprecated in favor of `fill`; setting `fill=True`.\n",
      "This will become an error in seaborn v0.14.0; please update your code.\n",
      "\n",
      "  func(*plot_args, **plot_kwargs)\n",
      "/opt/conda/lib/python3.10/site-packages/seaborn/_oldcore.py:1119: FutureWarning: use_inf_as_na option is deprecated and will be removed in a future version. Convert inf values to NaN before operating instead.\n",
      "  with pd.option_context('mode.use_inf_as_na', True):\n"
     ]
    },
    {
     "data": {
      "image/png": "[encoded data removed]",
      "text/plain": [
       "<Figure size 1285.22x300 with 1 Axes>"
      ]
     },
     "metadata": {},
     "output_type": "display_data"
    }
   ],
   "source": [
    "#Create Kernel Density Estimate plots to visualize the age distribution for passengers who survived and did not survive\n",
    "\n",
    "#Setting up the FacetGrid\n",
    "facet = sns.FacetGrid(train, hue=\"Survived\", aspect=4)\n",
    "\n",
    "#Mapping the KDE Plot\n",
    "facet.map(sns.kdeplot, \"Age\", shade=True)\n",
    "\n",
    "#Ensuring the entire range of ages is visible\n",
    "facet.set(xlim=(0, train['Age'].max()))\n",
    "facet.add_legend()\n",
    "plt.show()"
   ]
  },
  {
   "cell_type": "markdown",
   "id": "0013d2c6",
   "metadata": {
    "papermill": {
     "duration": 0.032239,
     "end_time": "2024-11-01T18:36:46.521513",
     "exception": false,
     "start_time": "2024-11-01T18:36:46.489274",
     "status": "completed"
    },
    "tags": []
   },
   "source": [
    "Those who were 20 to 30 years old were more dead and more survived."
   ]
  },
  {
   "cell_type": "markdown",
   "id": "51e13ac8",
   "metadata": {
    "papermill": {
     "duration": 0.032951,
     "end_time": "2024-11-01T18:36:46.587040",
     "exception": false,
     "start_time": "2024-11-01T18:36:46.554089",
     "status": "completed"
    },
    "tags": []
   },
   "source": [
    "**Binning**\n",
    "\n",
    "Bining -> converting numerical Age to Categorical Variable\n",
    "\n",
    "feature vector map:\n",
    "\n",
    "child: 0\n",
    "young: 1\n",
    "adult: 2\n",
    "mid-age: 3\n",
    "senior: 4"
   ]
  },
  {
   "cell_type": "code",
   "execution_count": 35,
   "id": "9a611cef",
   "metadata": {
    "execution": {
     "iopub.execute_input": "2024-11-01T18:36:46.656233Z",
     "iopub.status.busy": "2024-11-01T18:36:46.655778Z",
     "iopub.status.idle": "2024-11-01T18:36:46.675239Z",
     "shell.execute_reply": "2024-11-01T18:36:46.673815Z"
    },
    "papermill": {
     "duration": 0.058094,
     "end_time": "2024-11-01T18:36:46.678160",
     "exception": false,
     "start_time": "2024-11-01T18:36:46.620066",
     "status": "completed"
    },
    "tags": []
   },
   "outputs": [
    {
     "data": {
      "text/html": [
       "<div>\n",
       "<style scoped>\n",
       "    .dataframe tbody tr th:only-of-type {\n",
       "        vertical-align: middle;\n",
       "    }\n",
       "\n",
       "    .dataframe tbody tr th {\n",
       "        vertical-align: top;\n",
       "    }\n",
       "\n",
       "    .dataframe thead th {\n",
       "        text-align: right;\n",
       "    }\n",
       "</style>\n",
       "<table border=\"1\" class=\"dataframe\">\n",
       "  <thead>\n",
       "    <tr style=\"text-align: right;\">\n",
       "      <th></th>\n",
       "      <th>PassengerId</th>\n",
       "      <th>Survived</th>\n",
       "      <th>Pclass</th>\n",
       "      <th>Sex</th>\n",
       "      <th>Age</th>\n",
       "      <th>SibSp</th>\n",
       "      <th>Parch</th>\n",
       "      <th>Ticket</th>\n",
       "      <th>Fare</th>\n",
       "      <th>Cabin</th>\n",
       "      <th>Embarked</th>\n",
       "      <th>Title</th>\n",
       "    </tr>\n",
       "  </thead>\n",
       "  <tbody>\n",
       "    <tr>\n",
       "      <th>0</th>\n",
       "      <td>1</td>\n",
       "      <td>0</td>\n",
       "      <td>3</td>\n",
       "      <td>0</td>\n",
       "      <td>22.0</td>\n",
       "      <td>1</td>\n",
       "      <td>0</td>\n",
       "      <td>A/5 21171</td>\n",
       "      <td>7.2500</td>\n",
       "      <td>NaN</td>\n",
       "      <td>S</td>\n",
       "      <td>0</td>\n",
       "    </tr>\n",
       "    <tr>\n",
       "      <th>1</th>\n",
       "      <td>2</td>\n",
       "      <td>1</td>\n",
       "      <td>1</td>\n",
       "      <td>1</td>\n",
       "      <td>38.0</td>\n",
       "      <td>1</td>\n",
       "      <td>0</td>\n",
       "      <td>PC 17599</td>\n",
       "      <td>71.2833</td>\n",
       "      <td>C85</td>\n",
       "      <td>C</td>\n",
       "      <td>2</td>\n",
       "    </tr>\n",
       "    <tr>\n",
       "      <th>2</th>\n",
       "      <td>3</td>\n",
       "      <td>1</td>\n",
       "      <td>3</td>\n",
       "      <td>1</td>\n",
       "      <td>26.0</td>\n",
       "      <td>0</td>\n",
       "      <td>0</td>\n",
       "      <td>STON/O2. 3101282</td>\n",
       "      <td>7.9250</td>\n",
       "      <td>NaN</td>\n",
       "      <td>S</td>\n",
       "      <td>1</td>\n",
       "    </tr>\n",
       "    <tr>\n",
       "      <th>3</th>\n",
       "      <td>4</td>\n",
       "      <td>1</td>\n",
       "      <td>1</td>\n",
       "      <td>1</td>\n",
       "      <td>35.0</td>\n",
       "      <td>1</td>\n",
       "      <td>0</td>\n",
       "      <td>113803</td>\n",
       "      <td>53.1000</td>\n",
       "      <td>C123</td>\n",
       "      <td>S</td>\n",
       "      <td>2</td>\n",
       "    </tr>\n",
       "    <tr>\n",
       "      <th>4</th>\n",
       "      <td>5</td>\n",
       "      <td>0</td>\n",
       "      <td>3</td>\n",
       "      <td>0</td>\n",
       "      <td>35.0</td>\n",
       "      <td>0</td>\n",
       "      <td>0</td>\n",
       "      <td>373450</td>\n",
       "      <td>8.0500</td>\n",
       "      <td>NaN</td>\n",
       "      <td>S</td>\n",
       "      <td>0</td>\n",
       "    </tr>\n",
       "  </tbody>\n",
       "</table>\n",
       "</div>"
      ],
      "text/plain": [
       "   PassengerId  Survived  Pclass  Sex   Age  SibSp  Parch            Ticket  \\\n",
       "0            1         0       3    0  22.0      1      0         A/5 21171   \n",
       "1            2         1       1    1  38.0      1      0          PC 17599   \n",
       "2            3         1       3    1  26.0      0      0  STON/O2. 3101282   \n",
       "3            4         1       1    1  35.0      1      0            113803   \n",
       "4            5         0       3    0  35.0      0      0            373450   \n",
       "\n",
       "      Fare Cabin Embarked  Title  \n",
       "0   7.2500   NaN        S      0  \n",
       "1  71.2833   C85        C      2  \n",
       "2   7.9250   NaN        S      1  \n",
       "3  53.1000  C123        S      2  \n",
       "4   8.0500   NaN        S      0  "
      ]
     },
     "execution_count": 35,
     "metadata": {},
     "output_type": "execute_result"
    }
   ],
   "source": [
    "train.head()"
   ]
  },
  {
   "cell_type": "code",
   "execution_count": 36,
   "id": "911ae3e7",
   "metadata": {
    "execution": {
     "iopub.execute_input": "2024-11-01T18:36:46.746373Z",
     "iopub.status.busy": "2024-11-01T18:36:46.745904Z",
     "iopub.status.idle": "2024-11-01T18:36:46.763094Z",
     "shell.execute_reply": "2024-11-01T18:36:46.761803Z"
    },
    "papermill": {
     "duration": 0.05454,
     "end_time": "2024-11-01T18:36:46.765982",
     "exception": false,
     "start_time": "2024-11-01T18:36:46.711442",
     "status": "completed"
    },
    "tags": []
   },
   "outputs": [],
   "source": [
    "for dataset in train_test_data:\n",
    "    dataset.loc[dataset['Age'] <= 16, 'Age'] = 0\n",
    "    dataset.loc[(dataset['Age'] > 16) & (dataset['Age'] <= 26), 'Age'] = 1\n",
    "    dataset.loc[(dataset['Age'] > 26) & (dataset['Age'] <= 36), 'Age'] = 2\n",
    "    dataset.loc[(dataset['Age'] > 36) & (dataset['Age'] <= 62), 'Age'] = 3\n",
    "    dataset.loc[dataset['Age'] > 62, 'Age'] = 4"
   ]
  },
  {
   "cell_type": "code",
   "execution_count": 37,
   "id": "892904e9",
   "metadata": {
    "execution": {
     "iopub.execute_input": "2024-11-01T18:36:46.834562Z",
     "iopub.status.busy": "2024-11-01T18:36:46.834095Z",
     "iopub.status.idle": "2024-11-01T18:36:47.223539Z",
     "shell.execute_reply": "2024-11-01T18:36:47.222240Z"
    },
    "papermill": {
     "duration": 0.427176,
     "end_time": "2024-11-01T18:36:47.226237",
     "exception": false,
     "start_time": "2024-11-01T18:36:46.799061",
     "status": "completed"
    },
    "tags": []
   },
   "outputs": [
    {
     "data": {
      "image/png": "[encoded data removed]",
      "text/plain": [
       "<Figure size 1000x500 with 1 Axes>"
      ]
     },
     "metadata": {},
     "output_type": "display_data"
    }
   ],
   "source": [
    "train.head()\n",
    "bar_chart(\"Age\")"
   ]
  },
  {
   "cell_type": "markdown",
   "id": "f0b6baf7",
   "metadata": {
    "papermill": {
     "duration": 0.032549,
     "end_time": "2024-11-01T18:36:47.291548",
     "exception": false,
     "start_time": "2024-11-01T18:36:47.258999",
     "status": "completed"
    },
    "tags": []
   },
   "source": [
    "**Pclass Mapping**"
   ]
  },
  {
   "cell_type": "code",
   "execution_count": 38,
   "id": "2de06c33",
   "metadata": {
    "execution": {
     "iopub.execute_input": "2024-11-01T18:36:47.359063Z",
     "iopub.status.busy": "2024-11-01T18:36:47.358648Z",
     "iopub.status.idle": "2024-11-01T18:36:47.714600Z",
     "shell.execute_reply": "2024-11-01T18:36:47.713100Z"
    },
    "papermill": {
     "duration": 0.394806,
     "end_time": "2024-11-01T18:36:47.719122",
     "exception": false,
     "start_time": "2024-11-01T18:36:47.324316",
     "status": "completed"
    },
    "tags": []
   },
   "outputs": [
    {
     "data": {
      "image/png": "[encoded data removed]",
      "text/plain": [
       "<Figure size 1000x500 with 1 Axes>"
      ]
     },
     "metadata": {},
     "output_type": "display_data"
    },
    {
     "name": "stdout",
     "output_type": "stream",
     "text": [
      "Pclass1:\n",
      " Embarked\n",
      "S    127\n",
      "C     85\n",
      "Q      2\n",
      "Name: count, dtype: int64\n",
      "Pclass2:\n",
      " Embarked\n",
      "S    164\n",
      "C     17\n",
      "Q      3\n",
      "Name: count, dtype: int64\n",
      "Pclass3:\n",
      " Embarked\n",
      "S    353\n",
      "Q     72\n",
      "C     66\n",
      "Name: count, dtype: int64\n"
     ]
    }
   ],
   "source": [
    "Pclass1 = train[train[\"Pclass\"] == 1][\"Embarked\"].value_counts()\n",
    "Pclass2 = train[train[\"Pclass\"] == 2][\"Embarked\"].value_counts()\n",
    "Pclass3 = train[train[\"Pclass\"] == 3][\"Embarked\"].value_counts()\n",
    "\n",
    "df = pd.DataFrame([Pclass1,Pclass2,Pclass3])\n",
    "df.index = [\"1st Class\", \"2nd Class\", \"3rd Class\"]\n",
    "df.plot(kind=\"bar\", stacked=True, figsize=(10,5))\n",
    "plt.show()\n",
    "\n",
    "print(\"Pclass1:\\n\",Pclass1)\n",
    "print(\"Pclass2:\\n\",Pclass2)\n",
    "print(\"Pclass3:\\n\",Pclass3)"
   ]
  },
  {
   "cell_type": "markdown",
   "id": "039ccf11",
   "metadata": {
    "papermill": {
     "duration": 0.033376,
     "end_time": "2024-11-01T18:36:47.786925",
     "exception": false,
     "start_time": "2024-11-01T18:36:47.753549",
     "status": "completed"
    },
    "tags": []
   },
   "source": [
    "more than 50 % of 1st class are from S embark\n",
    "\n",
    "more than 50 % of 2st class are from S embark\n",
    "\n",
    "more than 50 % of 3st class are from S embark"
   ]
  },
  {
   "cell_type": "markdown",
   "id": "b50ca514",
   "metadata": {
    "papermill": {
     "duration": 0.033506,
     "end_time": "2024-11-01T18:36:47.854881",
     "exception": false,
     "start_time": "2024-11-01T18:36:47.821375",
     "status": "completed"
    },
    "tags": []
   },
   "source": [
    "**Embarked Mapping**"
   ]
  },
  {
   "cell_type": "code",
   "execution_count": 39,
   "id": "a058e7dd",
   "metadata": {
    "execution": {
     "iopub.execute_input": "2024-11-01T18:36:47.925544Z",
     "iopub.status.busy": "2024-11-01T18:36:47.925055Z",
     "iopub.status.idle": "2024-11-01T18:36:47.934628Z",
     "shell.execute_reply": "2024-11-01T18:36:47.932996Z"
    },
    "papermill": {
     "duration": 0.049668,
     "end_time": "2024-11-01T18:36:47.937798",
     "exception": false,
     "start_time": "2024-11-01T18:36:47.888130",
     "status": "completed"
    },
    "tags": []
   },
   "outputs": [],
   "source": [
    "for dataset in train_test_data:\n",
    "    dataset[\"Embarked\"] = dataset[\"Embarked\"].fillna(\"S\")"
   ]
  },
  {
   "cell_type": "code",
   "execution_count": 40,
   "id": "4ff28d8b",
   "metadata": {
    "execution": {
     "iopub.execute_input": "2024-11-01T18:36:48.012680Z",
     "iopub.status.busy": "2024-11-01T18:36:48.012191Z",
     "iopub.status.idle": "2024-11-01T18:36:48.033407Z",
     "shell.execute_reply": "2024-11-01T18:36:48.031841Z"
    },
    "papermill": {
     "duration": 0.061765,
     "end_time": "2024-11-01T18:36:48.036367",
     "exception": false,
     "start_time": "2024-11-01T18:36:47.974602",
     "status": "completed"
    },
    "tags": []
   },
   "outputs": [
    {
     "data": {
      "text/html": [
       "<div>\n",
       "<style scoped>\n",
       "    .dataframe tbody tr th:only-of-type {\n",
       "        vertical-align: middle;\n",
       "    }\n",
       "\n",
       "    .dataframe tbody tr th {\n",
       "        vertical-align: top;\n",
       "    }\n",
       "\n",
       "    .dataframe thead th {\n",
       "        text-align: right;\n",
       "    }\n",
       "</style>\n",
       "<table border=\"1\" class=\"dataframe\">\n",
       "  <thead>\n",
       "    <tr style=\"text-align: right;\">\n",
       "      <th></th>\n",
       "      <th>PassengerId</th>\n",
       "      <th>Survived</th>\n",
       "      <th>Pclass</th>\n",
       "      <th>Sex</th>\n",
       "      <th>Age</th>\n",
       "      <th>SibSp</th>\n",
       "      <th>Parch</th>\n",
       "      <th>Ticket</th>\n",
       "      <th>Fare</th>\n",
       "      <th>Cabin</th>\n",
       "      <th>Embarked</th>\n",
       "      <th>Title</th>\n",
       "    </tr>\n",
       "  </thead>\n",
       "  <tbody>\n",
       "    <tr>\n",
       "      <th>0</th>\n",
       "      <td>1</td>\n",
       "      <td>0</td>\n",
       "      <td>3</td>\n",
       "      <td>0</td>\n",
       "      <td>1.0</td>\n",
       "      <td>1</td>\n",
       "      <td>0</td>\n",
       "      <td>A/5 21171</td>\n",
       "      <td>7.2500</td>\n",
       "      <td>NaN</td>\n",
       "      <td>S</td>\n",
       "      <td>0</td>\n",
       "    </tr>\n",
       "    <tr>\n",
       "      <th>1</th>\n",
       "      <td>2</td>\n",
       "      <td>1</td>\n",
       "      <td>1</td>\n",
       "      <td>1</td>\n",
       "      <td>3.0</td>\n",
       "      <td>1</td>\n",
       "      <td>0</td>\n",
       "      <td>PC 17599</td>\n",
       "      <td>71.2833</td>\n",
       "      <td>C85</td>\n",
       "      <td>C</td>\n",
       "      <td>2</td>\n",
       "    </tr>\n",
       "    <tr>\n",
       "      <th>2</th>\n",
       "      <td>3</td>\n",
       "      <td>1</td>\n",
       "      <td>3</td>\n",
       "      <td>1</td>\n",
       "      <td>1.0</td>\n",
       "      <td>0</td>\n",
       "      <td>0</td>\n",
       "      <td>STON/O2. 3101282</td>\n",
       "      <td>7.9250</td>\n",
       "      <td>NaN</td>\n",
       "      <td>S</td>\n",
       "      <td>1</td>\n",
       "    </tr>\n",
       "    <tr>\n",
       "      <th>3</th>\n",
       "      <td>4</td>\n",
       "      <td>1</td>\n",
       "      <td>1</td>\n",
       "      <td>1</td>\n",
       "      <td>2.0</td>\n",
       "      <td>1</td>\n",
       "      <td>0</td>\n",
       "      <td>113803</td>\n",
       "      <td>53.1000</td>\n",
       "      <td>C123</td>\n",
       "      <td>S</td>\n",
       "      <td>2</td>\n",
       "    </tr>\n",
       "    <tr>\n",
       "      <th>4</th>\n",
       "      <td>5</td>\n",
       "      <td>0</td>\n",
       "      <td>3</td>\n",
       "      <td>0</td>\n",
       "      <td>2.0</td>\n",
       "      <td>0</td>\n",
       "      <td>0</td>\n",
       "      <td>373450</td>\n",
       "      <td>8.0500</td>\n",
       "      <td>NaN</td>\n",
       "      <td>S</td>\n",
       "      <td>0</td>\n",
       "    </tr>\n",
       "  </tbody>\n",
       "</table>\n",
       "</div>"
      ],
      "text/plain": [
       "   PassengerId  Survived  Pclass  Sex  Age  SibSp  Parch            Ticket  \\\n",
       "0            1         0       3    0  1.0      1      0         A/5 21171   \n",
       "1            2         1       1    1  3.0      1      0          PC 17599   \n",
       "2            3         1       3    1  1.0      0      0  STON/O2. 3101282   \n",
       "3            4         1       1    1  2.0      1      0            113803   \n",
       "4            5         0       3    0  2.0      0      0            373450   \n",
       "\n",
       "      Fare Cabin Embarked  Title  \n",
       "0   7.2500   NaN        S      0  \n",
       "1  71.2833   C85        C      2  \n",
       "2   7.9250   NaN        S      1  \n",
       "3  53.1000  C123        S      2  \n",
       "4   8.0500   NaN        S      0  "
      ]
     },
     "execution_count": 40,
     "metadata": {},
     "output_type": "execute_result"
    }
   ],
   "source": [
    "train.head()"
   ]
  },
  {
   "cell_type": "code",
   "execution_count": 41,
   "id": "831eb59b",
   "metadata": {
    "execution": {
     "iopub.execute_input": "2024-11-01T18:36:48.169759Z",
     "iopub.status.busy": "2024-11-01T18:36:48.169243Z",
     "iopub.status.idle": "2024-11-01T18:36:48.178016Z",
     "shell.execute_reply": "2024-11-01T18:36:48.176771Z"
    },
    "papermill": {
     "duration": 0.048637,
     "end_time": "2024-11-01T18:36:48.180931",
     "exception": false,
     "start_time": "2024-11-01T18:36:48.132294",
     "status": "completed"
    },
    "tags": []
   },
   "outputs": [],
   "source": [
    "embarked_mapping = {\"S\": 0, \"C\": 1, \"Q\":2}\n",
    "\n",
    "for dataset in train_test_data:\n",
    "    dataset[\"Embarked\"] = dataset[\"Embarked\"].map(embarked_mapping)"
   ]
  },
  {
   "cell_type": "markdown",
   "id": "351e5d54",
   "metadata": {
    "papermill": {
     "duration": 0.033578,
     "end_time": "2024-11-01T18:36:48.250125",
     "exception": false,
     "start_time": "2024-11-01T18:36:48.216547",
     "status": "completed"
    },
    "tags": []
   },
   "source": [
    "**Fare and Pclass mapping with binning**"
   ]
  },
  {
   "cell_type": "code",
   "execution_count": 42,
   "id": "e1e65100",
   "metadata": {
    "execution": {
     "iopub.execute_input": "2024-11-01T18:36:48.322756Z",
     "iopub.status.busy": "2024-11-01T18:36:48.322188Z",
     "iopub.status.idle": "2024-11-01T18:36:48.351670Z",
     "shell.execute_reply": "2024-11-01T18:36:48.350128Z"
    },
    "papermill": {
     "duration": 0.069739,
     "end_time": "2024-11-01T18:36:48.354578",
     "exception": false,
     "start_time": "2024-11-01T18:36:48.284839",
     "status": "completed"
    },
    "tags": []
   },
   "outputs": [
    {
     "data": {
      "text/html": [
       "<div>\n",
       "<style scoped>\n",
       "    .dataframe tbody tr th:only-of-type {\n",
       "        vertical-align: middle;\n",
       "    }\n",
       "\n",
       "    .dataframe tbody tr th {\n",
       "        vertical-align: top;\n",
       "    }\n",
       "\n",
       "    .dataframe thead th {\n",
       "        text-align: right;\n",
       "    }\n",
       "</style>\n",
       "<table border=\"1\" class=\"dataframe\">\n",
       "  <thead>\n",
       "    <tr style=\"text-align: right;\">\n",
       "      <th></th>\n",
       "      <th>PassengerId</th>\n",
       "      <th>Survived</th>\n",
       "      <th>Pclass</th>\n",
       "      <th>Sex</th>\n",
       "      <th>Age</th>\n",
       "      <th>SibSp</th>\n",
       "      <th>Parch</th>\n",
       "      <th>Ticket</th>\n",
       "      <th>Fare</th>\n",
       "      <th>Cabin</th>\n",
       "      <th>Embarked</th>\n",
       "      <th>Title</th>\n",
       "    </tr>\n",
       "  </thead>\n",
       "  <tbody>\n",
       "    <tr>\n",
       "      <th>0</th>\n",
       "      <td>1</td>\n",
       "      <td>0</td>\n",
       "      <td>3</td>\n",
       "      <td>0</td>\n",
       "      <td>1.0</td>\n",
       "      <td>1</td>\n",
       "      <td>0</td>\n",
       "      <td>A/5 21171</td>\n",
       "      <td>7.2500</td>\n",
       "      <td>NaN</td>\n",
       "      <td>0</td>\n",
       "      <td>0</td>\n",
       "    </tr>\n",
       "    <tr>\n",
       "      <th>1</th>\n",
       "      <td>2</td>\n",
       "      <td>1</td>\n",
       "      <td>1</td>\n",
       "      <td>1</td>\n",
       "      <td>3.0</td>\n",
       "      <td>1</td>\n",
       "      <td>0</td>\n",
       "      <td>PC 17599</td>\n",
       "      <td>71.2833</td>\n",
       "      <td>C85</td>\n",
       "      <td>1</td>\n",
       "      <td>2</td>\n",
       "    </tr>\n",
       "    <tr>\n",
       "      <th>2</th>\n",
       "      <td>3</td>\n",
       "      <td>1</td>\n",
       "      <td>3</td>\n",
       "      <td>1</td>\n",
       "      <td>1.0</td>\n",
       "      <td>0</td>\n",
       "      <td>0</td>\n",
       "      <td>STON/O2. 3101282</td>\n",
       "      <td>7.9250</td>\n",
       "      <td>NaN</td>\n",
       "      <td>0</td>\n",
       "      <td>1</td>\n",
       "    </tr>\n",
       "    <tr>\n",
       "      <th>3</th>\n",
       "      <td>4</td>\n",
       "      <td>1</td>\n",
       "      <td>1</td>\n",
       "      <td>1</td>\n",
       "      <td>2.0</td>\n",
       "      <td>1</td>\n",
       "      <td>0</td>\n",
       "      <td>113803</td>\n",
       "      <td>53.1000</td>\n",
       "      <td>C123</td>\n",
       "      <td>0</td>\n",
       "      <td>2</td>\n",
       "    </tr>\n",
       "    <tr>\n",
       "      <th>4</th>\n",
       "      <td>5</td>\n",
       "      <td>0</td>\n",
       "      <td>3</td>\n",
       "      <td>0</td>\n",
       "      <td>2.0</td>\n",
       "      <td>0</td>\n",
       "      <td>0</td>\n",
       "      <td>373450</td>\n",
       "      <td>8.0500</td>\n",
       "      <td>NaN</td>\n",
       "      <td>0</td>\n",
       "      <td>0</td>\n",
       "    </tr>\n",
       "    <tr>\n",
       "      <th>5</th>\n",
       "      <td>6</td>\n",
       "      <td>0</td>\n",
       "      <td>3</td>\n",
       "      <td>0</td>\n",
       "      <td>2.0</td>\n",
       "      <td>0</td>\n",
       "      <td>0</td>\n",
       "      <td>330877</td>\n",
       "      <td>8.4583</td>\n",
       "      <td>NaN</td>\n",
       "      <td>2</td>\n",
       "      <td>0</td>\n",
       "    </tr>\n",
       "    <tr>\n",
       "      <th>6</th>\n",
       "      <td>7</td>\n",
       "      <td>0</td>\n",
       "      <td>1</td>\n",
       "      <td>0</td>\n",
       "      <td>3.0</td>\n",
       "      <td>0</td>\n",
       "      <td>0</td>\n",
       "      <td>17463</td>\n",
       "      <td>51.8625</td>\n",
       "      <td>E46</td>\n",
       "      <td>0</td>\n",
       "      <td>0</td>\n",
       "    </tr>\n",
       "    <tr>\n",
       "      <th>7</th>\n",
       "      <td>8</td>\n",
       "      <td>0</td>\n",
       "      <td>3</td>\n",
       "      <td>0</td>\n",
       "      <td>0.0</td>\n",
       "      <td>3</td>\n",
       "      <td>1</td>\n",
       "      <td>349909</td>\n",
       "      <td>21.0750</td>\n",
       "      <td>NaN</td>\n",
       "      <td>0</td>\n",
       "      <td>3</td>\n",
       "    </tr>\n",
       "    <tr>\n",
       "      <th>8</th>\n",
       "      <td>9</td>\n",
       "      <td>1</td>\n",
       "      <td>3</td>\n",
       "      <td>1</td>\n",
       "      <td>2.0</td>\n",
       "      <td>0</td>\n",
       "      <td>2</td>\n",
       "      <td>347742</td>\n",
       "      <td>11.1333</td>\n",
       "      <td>NaN</td>\n",
       "      <td>0</td>\n",
       "      <td>2</td>\n",
       "    </tr>\n",
       "    <tr>\n",
       "      <th>9</th>\n",
       "      <td>10</td>\n",
       "      <td>1</td>\n",
       "      <td>2</td>\n",
       "      <td>1</td>\n",
       "      <td>0.0</td>\n",
       "      <td>1</td>\n",
       "      <td>0</td>\n",
       "      <td>237736</td>\n",
       "      <td>30.0708</td>\n",
       "      <td>NaN</td>\n",
       "      <td>1</td>\n",
       "      <td>2</td>\n",
       "    </tr>\n",
       "  </tbody>\n",
       "</table>\n",
       "</div>"
      ],
      "text/plain": [
       "   PassengerId  Survived  Pclass  Sex  Age  SibSp  Parch            Ticket  \\\n",
       "0            1         0       3    0  1.0      1      0         A/5 21171   \n",
       "1            2         1       1    1  3.0      1      0          PC 17599   \n",
       "2            3         1       3    1  1.0      0      0  STON/O2. 3101282   \n",
       "3            4         1       1    1  2.0      1      0            113803   \n",
       "4            5         0       3    0  2.0      0      0            373450   \n",
       "5            6         0       3    0  2.0      0      0            330877   \n",
       "6            7         0       1    0  3.0      0      0             17463   \n",
       "7            8         0       3    0  0.0      3      1            349909   \n",
       "8            9         1       3    1  2.0      0      2            347742   \n",
       "9           10         1       2    1  0.0      1      0            237736   \n",
       "\n",
       "      Fare Cabin  Embarked  Title  \n",
       "0   7.2500   NaN         0      0  \n",
       "1  71.2833   C85         1      2  \n",
       "2   7.9250   NaN         0      1  \n",
       "3  53.1000  C123         0      2  \n",
       "4   8.0500   NaN         0      0  \n",
       "5   8.4583   NaN         2      0  \n",
       "6  51.8625   E46         0      0  \n",
       "7  21.0750   NaN         0      3  \n",
       "8  11.1333   NaN         0      2  \n",
       "9  30.0708   NaN         1      2  "
      ]
     },
     "execution_count": 42,
     "metadata": {},
     "output_type": "execute_result"
    }
   ],
   "source": [
    "train[\"Fare\"].fillna(train.groupby(\"Pclass\")[\"Fare\"].transform(\"median\"))\n",
    "test[\"Fare\"].fillna(test.groupby(\"Pclass\")[\"Fare\"].transform(\"median\"))\n",
    "train.head(10)"
   ]
  },
  {
   "cell_type": "code",
   "execution_count": 43,
   "id": "a7d7d35f",
   "metadata": {
    "execution": {
     "iopub.execute_input": "2024-11-01T18:36:48.425294Z",
     "iopub.status.busy": "2024-11-01T18:36:48.424371Z",
     "iopub.status.idle": "2024-11-01T18:36:49.169340Z",
     "shell.execute_reply": "2024-11-01T18:36:49.168129Z"
    },
    "papermill": {
     "duration": 0.783786,
     "end_time": "2024-11-01T18:36:49.172391",
     "exception": false,
     "start_time": "2024-11-01T18:36:48.388605",
     "status": "completed"
    },
    "tags": []
   },
   "outputs": [
    {
     "name": "stderr",
     "output_type": "stream",
     "text": [
      "/opt/conda/lib/python3.10/site-packages/seaborn/axisgrid.py:848: FutureWarning: \n",
      "\n",
      "`shade` is now deprecated in favor of `fill`; setting `fill=True`.\n",
      "This will become an error in seaborn v0.14.0; please update your code.\n",
      "\n",
      "  func(*plot_args, **plot_kwargs)\n",
      "/opt/conda/lib/python3.10/site-packages/seaborn/_oldcore.py:1119: FutureWarning: use_inf_as_na option is deprecated and will be removed in a future version. Convert inf values to NaN before operating instead.\n",
      "  with pd.option_context('mode.use_inf_as_na', True):\n",
      "/opt/conda/lib/python3.10/site-packages/seaborn/axisgrid.py:848: FutureWarning: \n",
      "\n",
      "`shade` is now deprecated in favor of `fill`; setting `fill=True`.\n",
      "This will become an error in seaborn v0.14.0; please update your code.\n",
      "\n",
      "  func(*plot_args, **plot_kwargs)\n",
      "/opt/conda/lib/python3.10/site-packages/seaborn/_oldcore.py:1119: FutureWarning: use_inf_as_na option is deprecated and will be removed in a future version. Convert inf values to NaN before operating instead.\n",
      "  with pd.option_context('mode.use_inf_as_na', True):\n"
     ]
    },
    {
     "data": {
      "image/png": "[encoded data removed]",
      "text/plain": [
       "<Figure size 1285.22x300 with 1 Axes>"
      ]
     },
     "metadata": {},
     "output_type": "display_data"
    }
   ],
   "source": [
    "facet = sns.FacetGrid(train, hue=\"Survived\", aspect=4)\n",
    "facet.map(sns.kdeplot, \"Fare\", shade=True)\n",
    "facet.set(xlim = (0, train['Fare'].max()))\n",
    "facet.add_legend()\n",
    "plt.show()"
   ]
  },
  {
   "cell_type": "code",
   "execution_count": 44,
   "id": "eadc6f98",
   "metadata": {
    "execution": {
     "iopub.execute_input": "2024-11-01T18:36:49.245358Z",
     "iopub.status.busy": "2024-11-01T18:36:49.244915Z",
     "iopub.status.idle": "2024-11-01T18:36:50.097907Z",
     "shell.execute_reply": "2024-11-01T18:36:50.096476Z"
    },
    "papermill": {
     "duration": 0.892842,
     "end_time": "2024-11-01T18:36:50.101329",
     "exception": false,
     "start_time": "2024-11-01T18:36:49.208487",
     "status": "completed"
    },
    "tags": []
   },
   "outputs": [
    {
     "name": "stderr",
     "output_type": "stream",
     "text": [
      "/opt/conda/lib/python3.10/site-packages/seaborn/axisgrid.py:848: FutureWarning: \n",
      "\n",
      "`shade` is now deprecated in favor of `fill`; setting `fill=True`.\n",
      "This will become an error in seaborn v0.14.0; please update your code.\n",
      "\n",
      "  func(*plot_args, **plot_kwargs)\n",
      "/opt/conda/lib/python3.10/site-packages/seaborn/_oldcore.py:1119: FutureWarning: use_inf_as_na option is deprecated and will be removed in a future version. Convert inf values to NaN before operating instead.\n",
      "  with pd.option_context('mode.use_inf_as_na', True):\n",
      "/opt/conda/lib/python3.10/site-packages/seaborn/axisgrid.py:848: FutureWarning: \n",
      "\n",
      "`shade` is now deprecated in favor of `fill`; setting `fill=True`.\n",
      "This will become an error in seaborn v0.14.0; please update your code.\n",
      "\n",
      "  func(*plot_args, **plot_kwargs)\n",
      "/opt/conda/lib/python3.10/site-packages/seaborn/_oldcore.py:1119: FutureWarning: use_inf_as_na option is deprecated and will be removed in a future version. Convert inf values to NaN before operating instead.\n",
      "  with pd.option_context('mode.use_inf_as_na', True):\n"
     ]
    },
    {
     "data": {
      "text/plain": [
       "(0.0, 20.0)"
      ]
     },
     "execution_count": 44,
     "metadata": {},
     "output_type": "execute_result"
    },
    {
     "data": {
      "image/png": "[encoded data removed]",
      "text/plain": [
       "<Figure size 1285.22x300 with 1 Axes>"
      ]
     },
     "metadata": {},
     "output_type": "display_data"
    }
   ],
   "source": [
    "facet = sns.FacetGrid(train, hue=\"Survived\",aspect=4)\n",
    "facet.map(sns.kdeplot,'Fare',shade= True)\n",
    "facet.set(xlim=(0, train['Fare'].max()))\n",
    "facet.add_legend()\n",
    "plt.xlim(0, 20)"
   ]
  },
  {
   "cell_type": "code",
   "execution_count": 45,
   "id": "572d5222",
   "metadata": {
    "execution": {
     "iopub.execute_input": "2024-11-01T18:36:50.181429Z",
     "iopub.status.busy": "2024-11-01T18:36:50.180901Z",
     "iopub.status.idle": "2024-11-01T18:36:50.199363Z",
     "shell.execute_reply": "2024-11-01T18:36:50.197555Z"
    },
    "papermill": {
     "duration": 0.062424,
     "end_time": "2024-11-01T18:36:50.202273",
     "exception": false,
     "start_time": "2024-11-01T18:36:50.139849",
     "status": "completed"
    },
    "tags": []
   },
   "outputs": [],
   "source": [
    "for dataset in train_test_data:\n",
    "    dataset.loc[dataset[\"Fare\"] <= 17, \"Fare\"] = 0\n",
    "    dataset.loc[(dataset[\"Fare\"] > 17) & (dataset[\"Fare\"] <= 30), \"Fare\"] = 1\n",
    "    dataset.loc[(dataset[\"Fare\"] > 30) & (dataset[\"Fare\"] <= 100), \"Fare\"] = 2\n",
    "    dataset.loc[(dataset[\"Fare\"] >= 100), \"Fare\"] = 3"
   ]
  },
  {
   "cell_type": "code",
   "execution_count": 46,
   "id": "cf85aa19",
   "metadata": {
    "execution": {
     "iopub.execute_input": "2024-11-01T18:36:50.276355Z",
     "iopub.status.busy": "2024-11-01T18:36:50.275886Z",
     "iopub.status.idle": "2024-11-01T18:36:50.296227Z",
     "shell.execute_reply": "2024-11-01T18:36:50.295028Z"
    },
    "papermill": {
     "duration": 0.060837,
     "end_time": "2024-11-01T18:36:50.299416",
     "exception": false,
     "start_time": "2024-11-01T18:36:50.238579",
     "status": "completed"
    },
    "tags": []
   },
   "outputs": [
    {
     "data": {
      "text/html": [
       "<div>\n",
       "<style scoped>\n",
       "    .dataframe tbody tr th:only-of-type {\n",
       "        vertical-align: middle;\n",
       "    }\n",
       "\n",
       "    .dataframe tbody tr th {\n",
       "        vertical-align: top;\n",
       "    }\n",
       "\n",
       "    .dataframe thead th {\n",
       "        text-align: right;\n",
       "    }\n",
       "</style>\n",
       "<table border=\"1\" class=\"dataframe\">\n",
       "  <thead>\n",
       "    <tr style=\"text-align: right;\">\n",
       "      <th></th>\n",
       "      <th>PassengerId</th>\n",
       "      <th>Survived</th>\n",
       "      <th>Pclass</th>\n",
       "      <th>Sex</th>\n",
       "      <th>Age</th>\n",
       "      <th>SibSp</th>\n",
       "      <th>Parch</th>\n",
       "      <th>Ticket</th>\n",
       "      <th>Fare</th>\n",
       "      <th>Cabin</th>\n",
       "      <th>Embarked</th>\n",
       "      <th>Title</th>\n",
       "    </tr>\n",
       "  </thead>\n",
       "  <tbody>\n",
       "    <tr>\n",
       "      <th>0</th>\n",
       "      <td>1</td>\n",
       "      <td>0</td>\n",
       "      <td>3</td>\n",
       "      <td>0</td>\n",
       "      <td>1.0</td>\n",
       "      <td>1</td>\n",
       "      <td>0</td>\n",
       "      <td>A/5 21171</td>\n",
       "      <td>0.0</td>\n",
       "      <td>NaN</td>\n",
       "      <td>0</td>\n",
       "      <td>0</td>\n",
       "    </tr>\n",
       "    <tr>\n",
       "      <th>1</th>\n",
       "      <td>2</td>\n",
       "      <td>1</td>\n",
       "      <td>1</td>\n",
       "      <td>1</td>\n",
       "      <td>3.0</td>\n",
       "      <td>1</td>\n",
       "      <td>0</td>\n",
       "      <td>PC 17599</td>\n",
       "      <td>2.0</td>\n",
       "      <td>C85</td>\n",
       "      <td>1</td>\n",
       "      <td>2</td>\n",
       "    </tr>\n",
       "    <tr>\n",
       "      <th>2</th>\n",
       "      <td>3</td>\n",
       "      <td>1</td>\n",
       "      <td>3</td>\n",
       "      <td>1</td>\n",
       "      <td>1.0</td>\n",
       "      <td>0</td>\n",
       "      <td>0</td>\n",
       "      <td>STON/O2. 3101282</td>\n",
       "      <td>0.0</td>\n",
       "      <td>NaN</td>\n",
       "      <td>0</td>\n",
       "      <td>1</td>\n",
       "    </tr>\n",
       "    <tr>\n",
       "      <th>3</th>\n",
       "      <td>4</td>\n",
       "      <td>1</td>\n",
       "      <td>1</td>\n",
       "      <td>1</td>\n",
       "      <td>2.0</td>\n",
       "      <td>1</td>\n",
       "      <td>0</td>\n",
       "      <td>113803</td>\n",
       "      <td>2.0</td>\n",
       "      <td>C123</td>\n",
       "      <td>0</td>\n",
       "      <td>2</td>\n",
       "    </tr>\n",
       "    <tr>\n",
       "      <th>4</th>\n",
       "      <td>5</td>\n",
       "      <td>0</td>\n",
       "      <td>3</td>\n",
       "      <td>0</td>\n",
       "      <td>2.0</td>\n",
       "      <td>0</td>\n",
       "      <td>0</td>\n",
       "      <td>373450</td>\n",
       "      <td>0.0</td>\n",
       "      <td>NaN</td>\n",
       "      <td>0</td>\n",
       "      <td>0</td>\n",
       "    </tr>\n",
       "  </tbody>\n",
       "</table>\n",
       "</div>"
      ],
      "text/plain": [
       "   PassengerId  Survived  Pclass  Sex  Age  SibSp  Parch            Ticket  \\\n",
       "0            1         0       3    0  1.0      1      0         A/5 21171   \n",
       "1            2         1       1    1  3.0      1      0          PC 17599   \n",
       "2            3         1       3    1  1.0      0      0  STON/O2. 3101282   \n",
       "3            4         1       1    1  2.0      1      0            113803   \n",
       "4            5         0       3    0  2.0      0      0            373450   \n",
       "\n",
       "   Fare Cabin  Embarked  Title  \n",
       "0   0.0   NaN         0      0  \n",
       "1   2.0   C85         1      2  \n",
       "2   0.0   NaN         0      1  \n",
       "3   2.0  C123         0      2  \n",
       "4   0.0   NaN         0      0  "
      ]
     },
     "execution_count": 46,
     "metadata": {},
     "output_type": "execute_result"
    }
   ],
   "source": [
    "train.head()"
   ]
  },
  {
   "cell_type": "markdown",
   "id": "6cd7a4e0",
   "metadata": {
    "papermill": {
     "duration": 0.037309,
     "end_time": "2024-11-01T18:36:50.377318",
     "exception": false,
     "start_time": "2024-11-01T18:36:50.340009",
     "status": "completed"
    },
    "tags": []
   },
   "source": [
    "**Cabin Mapping**"
   ]
  },
  {
   "cell_type": "code",
   "execution_count": 47,
   "id": "47be6934",
   "metadata": {
    "execution": {
     "iopub.execute_input": "2024-11-01T18:36:50.452160Z",
     "iopub.status.busy": "2024-11-01T18:36:50.451713Z",
     "iopub.status.idle": "2024-11-01T18:36:50.463164Z",
     "shell.execute_reply": "2024-11-01T18:36:50.461960Z"
    },
    "papermill": {
     "duration": 0.051769,
     "end_time": "2024-11-01T18:36:50.465669",
     "exception": false,
     "start_time": "2024-11-01T18:36:50.413900",
     "status": "completed"
    },
    "tags": []
   },
   "outputs": [
    {
     "data": {
      "text/plain": [
       "Cabin\n",
       "B96 B98        4\n",
       "G6             4\n",
       "C23 C25 C27    4\n",
       "C22 C26        3\n",
       "F33            3\n",
       "              ..\n",
       "E34            1\n",
       "C7             1\n",
       "C54            1\n",
       "E36            1\n",
       "C148           1\n",
       "Name: count, Length: 147, dtype: int64"
      ]
     },
     "execution_count": 47,
     "metadata": {},
     "output_type": "execute_result"
    }
   ],
   "source": [
    "train.Cabin.value_counts()"
   ]
  },
  {
   "cell_type": "code",
   "execution_count": 48,
   "id": "909ca726",
   "metadata": {
    "execution": {
     "iopub.execute_input": "2024-11-01T18:36:50.543029Z",
     "iopub.status.busy": "2024-11-01T18:36:50.542596Z",
     "iopub.status.idle": "2024-11-01T18:36:50.551179Z",
     "shell.execute_reply": "2024-11-01T18:36:50.550004Z"
    },
    "papermill": {
     "duration": 0.049663,
     "end_time": "2024-11-01T18:36:50.553731",
     "exception": false,
     "start_time": "2024-11-01T18:36:50.504068",
     "status": "completed"
    },
    "tags": []
   },
   "outputs": [],
   "source": [
    "for dataset in train_test_data:\n",
    "    dataset[\"Cabin\"] = dataset[\"Cabin\"].str[:1]"
   ]
  },
  {
   "cell_type": "code",
   "execution_count": 49,
   "id": "9ede4c1e",
   "metadata": {
    "execution": {
     "iopub.execute_input": "2024-11-01T18:36:50.630945Z",
     "iopub.status.busy": "2024-11-01T18:36:50.630473Z",
     "iopub.status.idle": "2024-11-01T18:36:51.138499Z",
     "shell.execute_reply": "2024-11-01T18:36:51.137166Z"
    },
    "papermill": {
     "duration": 0.550425,
     "end_time": "2024-11-01T18:36:51.141224",
     "exception": false,
     "start_time": "2024-11-01T18:36:50.590799",
     "status": "completed"
    },
    "tags": []
   },
   "outputs": [
    {
     "data": {
      "text/plain": [
       "<Axes: >"
      ]
     },
     "execution_count": 49,
     "metadata": {},
     "output_type": "execute_result"
    },
    {
     "data": {
      "image/png": "[encoded data removed]",
      "text/plain": [
       "<Figure size 1000x500 with 1 Axes>"
      ]
     },
     "metadata": {},
     "output_type": "display_data"
    }
   ],
   "source": [
    "Pclass1 = train[train[\"Pclass\"] == 1][\"Cabin\"].value_counts()\n",
    "Pclass2 = train[train[\"Pclass\"] == 2][\"Cabin\"].value_counts()\n",
    "Pclass3 = train[train[\"Pclass\"] == 3][\"Cabin\"].value_counts()\n",
    "\n",
    "df = pd.DataFrame([Pclass1, Pclass2, Pclass3])\n",
    "df.index = [\"1st class\", \"2nd class\", \"3rd class\"]\n",
    "df.plot(kind=\"bar\", stacked=True, figsize=(10,5))"
   ]
  },
  {
   "cell_type": "code",
   "execution_count": 50,
   "id": "73b96744",
   "metadata": {
    "execution": {
     "iopub.execute_input": "2024-11-01T18:36:51.217574Z",
     "iopub.status.busy": "2024-11-01T18:36:51.217111Z",
     "iopub.status.idle": "2024-11-01T18:36:51.240545Z",
     "shell.execute_reply": "2024-11-01T18:36:51.239036Z"
    },
    "papermill": {
     "duration": 0.064754,
     "end_time": "2024-11-01T18:36:51.243271",
     "exception": false,
     "start_time": "2024-11-01T18:36:51.178517",
     "status": "completed"
    },
    "tags": []
   },
   "outputs": [
    {
     "data": {
      "text/html": [
       "<div>\n",
       "<style scoped>\n",
       "    .dataframe tbody tr th:only-of-type {\n",
       "        vertical-align: middle;\n",
       "    }\n",
       "\n",
       "    .dataframe tbody tr th {\n",
       "        vertical-align: top;\n",
       "    }\n",
       "\n",
       "    .dataframe thead th {\n",
       "        text-align: right;\n",
       "    }\n",
       "</style>\n",
       "<table border=\"1\" class=\"dataframe\">\n",
       "  <thead>\n",
       "    <tr style=\"text-align: right;\">\n",
       "      <th></th>\n",
       "      <th>PassengerId</th>\n",
       "      <th>Survived</th>\n",
       "      <th>Pclass</th>\n",
       "      <th>Sex</th>\n",
       "      <th>Age</th>\n",
       "      <th>SibSp</th>\n",
       "      <th>Parch</th>\n",
       "      <th>Ticket</th>\n",
       "      <th>Fare</th>\n",
       "      <th>Cabin</th>\n",
       "      <th>Embarked</th>\n",
       "      <th>Title</th>\n",
       "    </tr>\n",
       "  </thead>\n",
       "  <tbody>\n",
       "    <tr>\n",
       "      <th>0</th>\n",
       "      <td>1</td>\n",
       "      <td>0</td>\n",
       "      <td>3</td>\n",
       "      <td>0</td>\n",
       "      <td>1.0</td>\n",
       "      <td>1</td>\n",
       "      <td>0</td>\n",
       "      <td>A/5 21171</td>\n",
       "      <td>0.0</td>\n",
       "      <td>NaN</td>\n",
       "      <td>0</td>\n",
       "      <td>0</td>\n",
       "    </tr>\n",
       "    <tr>\n",
       "      <th>1</th>\n",
       "      <td>2</td>\n",
       "      <td>1</td>\n",
       "      <td>1</td>\n",
       "      <td>1</td>\n",
       "      <td>3.0</td>\n",
       "      <td>1</td>\n",
       "      <td>0</td>\n",
       "      <td>PC 17599</td>\n",
       "      <td>2.0</td>\n",
       "      <td>0.8</td>\n",
       "      <td>1</td>\n",
       "      <td>2</td>\n",
       "    </tr>\n",
       "    <tr>\n",
       "      <th>2</th>\n",
       "      <td>3</td>\n",
       "      <td>1</td>\n",
       "      <td>3</td>\n",
       "      <td>1</td>\n",
       "      <td>1.0</td>\n",
       "      <td>0</td>\n",
       "      <td>0</td>\n",
       "      <td>STON/O2. 3101282</td>\n",
       "      <td>0.0</td>\n",
       "      <td>NaN</td>\n",
       "      <td>0</td>\n",
       "      <td>1</td>\n",
       "    </tr>\n",
       "    <tr>\n",
       "      <th>3</th>\n",
       "      <td>4</td>\n",
       "      <td>1</td>\n",
       "      <td>1</td>\n",
       "      <td>1</td>\n",
       "      <td>2.0</td>\n",
       "      <td>1</td>\n",
       "      <td>0</td>\n",
       "      <td>113803</td>\n",
       "      <td>2.0</td>\n",
       "      <td>0.8</td>\n",
       "      <td>0</td>\n",
       "      <td>2</td>\n",
       "    </tr>\n",
       "    <tr>\n",
       "      <th>4</th>\n",
       "      <td>5</td>\n",
       "      <td>0</td>\n",
       "      <td>3</td>\n",
       "      <td>0</td>\n",
       "      <td>2.0</td>\n",
       "      <td>0</td>\n",
       "      <td>0</td>\n",
       "      <td>373450</td>\n",
       "      <td>0.0</td>\n",
       "      <td>NaN</td>\n",
       "      <td>0</td>\n",
       "      <td>0</td>\n",
       "    </tr>\n",
       "  </tbody>\n",
       "</table>\n",
       "</div>"
      ],
      "text/plain": [
       "   PassengerId  Survived  Pclass  Sex  Age  SibSp  Parch            Ticket  \\\n",
       "0            1         0       3    0  1.0      1      0         A/5 21171   \n",
       "1            2         1       1    1  3.0      1      0          PC 17599   \n",
       "2            3         1       3    1  1.0      0      0  STON/O2. 3101282   \n",
       "3            4         1       1    1  2.0      1      0            113803   \n",
       "4            5         0       3    0  2.0      0      0            373450   \n",
       "\n",
       "   Fare  Cabin  Embarked  Title  \n",
       "0   0.0    NaN         0      0  \n",
       "1   2.0    0.8         1      2  \n",
       "2   0.0    NaN         0      1  \n",
       "3   2.0    0.8         0      2  \n",
       "4   0.0    NaN         0      0  "
      ]
     },
     "execution_count": 50,
     "metadata": {},
     "output_type": "execute_result"
    }
   ],
   "source": [
    "cabin_mapping = {\"A\": 0, \"B\": 0.4, \"C\": 0.8, \"D\": 1.2, \"E\": 1.6, \"F\": 2, \"G\": 2.4, \"T\": 2.8}\n",
    "\n",
    "for dataset in train_test_data:\n",
    "    dataset[\"Cabin\"] = dataset[\"Cabin\"].map(cabin_mapping)\n",
    "    \n",
    "train.head()    "
   ]
  },
  {
   "cell_type": "code",
   "execution_count": 51,
   "id": "64a3b9c2",
   "metadata": {
    "execution": {
     "iopub.execute_input": "2024-11-01T18:36:51.319708Z",
     "iopub.status.busy": "2024-11-01T18:36:51.319243Z",
     "iopub.status.idle": "2024-11-01T18:36:51.344938Z",
     "shell.execute_reply": "2024-11-01T18:36:51.343791Z"
    },
    "papermill": {
     "duration": 0.067234,
     "end_time": "2024-11-01T18:36:51.347715",
     "exception": false,
     "start_time": "2024-11-01T18:36:51.280481",
     "status": "completed"
    },
    "tags": []
   },
   "outputs": [
    {
     "name": "stderr",
     "output_type": "stream",
     "text": [
      "/tmp/ipykernel_17/2364729907.py:2: FutureWarning: A value is trying to be set on a copy of a DataFrame or Series through chained assignment using an inplace method.\n",
      "The behavior will change in pandas 3.0. This inplace method will never work because the intermediate object on which we are setting values always behaves as a copy.\n",
      "\n",
      "For example, when doing 'df[col].method(value, inplace=True)', try using 'df.method({col: value}, inplace=True)' or df[col] = df[col].method(value) instead, to perform the operation inplace on the original object.\n",
      "\n",
      "\n",
      "  train[\"Cabin\"].fillna(train.groupby(\"Pclass\")[\"Cabin\"].transform(\"median\"), inplace=True)\n",
      "/tmp/ipykernel_17/2364729907.py:3: FutureWarning: A value is trying to be set on a copy of a DataFrame or Series through chained assignment using an inplace method.\n",
      "The behavior will change in pandas 3.0. This inplace method will never work because the intermediate object on which we are setting values always behaves as a copy.\n",
      "\n",
      "For example, when doing 'df[col].method(value, inplace=True)', try using 'df.method({col: value}, inplace=True)' or df[col] = df[col].method(value) instead, to perform the operation inplace on the original object.\n",
      "\n",
      "\n",
      "  test[\"Cabin\"].fillna(test.groupby(\"Pclass\")[\"Cabin\"].transform(\"median\"), inplace=True)\n"
     ]
    },
    {
     "data": {
      "text/html": [
       "<div>\n",
       "<style scoped>\n",
       "    .dataframe tbody tr th:only-of-type {\n",
       "        vertical-align: middle;\n",
       "    }\n",
       "\n",
       "    .dataframe tbody tr th {\n",
       "        vertical-align: top;\n",
       "    }\n",
       "\n",
       "    .dataframe thead th {\n",
       "        text-align: right;\n",
       "    }\n",
       "</style>\n",
       "<table border=\"1\" class=\"dataframe\">\n",
       "  <thead>\n",
       "    <tr style=\"text-align: right;\">\n",
       "      <th></th>\n",
       "      <th>PassengerId</th>\n",
       "      <th>Survived</th>\n",
       "      <th>Pclass</th>\n",
       "      <th>Sex</th>\n",
       "      <th>Age</th>\n",
       "      <th>SibSp</th>\n",
       "      <th>Parch</th>\n",
       "      <th>Ticket</th>\n",
       "      <th>Fare</th>\n",
       "      <th>Cabin</th>\n",
       "      <th>Embarked</th>\n",
       "      <th>Title</th>\n",
       "    </tr>\n",
       "  </thead>\n",
       "  <tbody>\n",
       "    <tr>\n",
       "      <th>0</th>\n",
       "      <td>1</td>\n",
       "      <td>0</td>\n",
       "      <td>3</td>\n",
       "      <td>0</td>\n",
       "      <td>1.0</td>\n",
       "      <td>1</td>\n",
       "      <td>0</td>\n",
       "      <td>A/5 21171</td>\n",
       "      <td>0.0</td>\n",
       "      <td>2.0</td>\n",
       "      <td>0</td>\n",
       "      <td>0</td>\n",
       "    </tr>\n",
       "    <tr>\n",
       "      <th>1</th>\n",
       "      <td>2</td>\n",
       "      <td>1</td>\n",
       "      <td>1</td>\n",
       "      <td>1</td>\n",
       "      <td>3.0</td>\n",
       "      <td>1</td>\n",
       "      <td>0</td>\n",
       "      <td>PC 17599</td>\n",
       "      <td>2.0</td>\n",
       "      <td>0.8</td>\n",
       "      <td>1</td>\n",
       "      <td>2</td>\n",
       "    </tr>\n",
       "    <tr>\n",
       "      <th>2</th>\n",
       "      <td>3</td>\n",
       "      <td>1</td>\n",
       "      <td>3</td>\n",
       "      <td>1</td>\n",
       "      <td>1.0</td>\n",
       "      <td>0</td>\n",
       "      <td>0</td>\n",
       "      <td>STON/O2. 3101282</td>\n",
       "      <td>0.0</td>\n",
       "      <td>2.0</td>\n",
       "      <td>0</td>\n",
       "      <td>1</td>\n",
       "    </tr>\n",
       "    <tr>\n",
       "      <th>3</th>\n",
       "      <td>4</td>\n",
       "      <td>1</td>\n",
       "      <td>1</td>\n",
       "      <td>1</td>\n",
       "      <td>2.0</td>\n",
       "      <td>1</td>\n",
       "      <td>0</td>\n",
       "      <td>113803</td>\n",
       "      <td>2.0</td>\n",
       "      <td>0.8</td>\n",
       "      <td>0</td>\n",
       "      <td>2</td>\n",
       "    </tr>\n",
       "    <tr>\n",
       "      <th>4</th>\n",
       "      <td>5</td>\n",
       "      <td>0</td>\n",
       "      <td>3</td>\n",
       "      <td>0</td>\n",
       "      <td>2.0</td>\n",
       "      <td>0</td>\n",
       "      <td>0</td>\n",
       "      <td>373450</td>\n",
       "      <td>0.0</td>\n",
       "      <td>2.0</td>\n",
       "      <td>0</td>\n",
       "      <td>0</td>\n",
       "    </tr>\n",
       "  </tbody>\n",
       "</table>\n",
       "</div>"
      ],
      "text/plain": [
       "   PassengerId  Survived  Pclass  Sex  Age  SibSp  Parch            Ticket  \\\n",
       "0            1         0       3    0  1.0      1      0         A/5 21171   \n",
       "1            2         1       1    1  3.0      1      0          PC 17599   \n",
       "2            3         1       3    1  1.0      0      0  STON/O2. 3101282   \n",
       "3            4         1       1    1  2.0      1      0            113803   \n",
       "4            5         0       3    0  2.0      0      0            373450   \n",
       "\n",
       "   Fare  Cabin  Embarked  Title  \n",
       "0   0.0    2.0         0      0  \n",
       "1   2.0    0.8         1      2  \n",
       "2   0.0    2.0         0      1  \n",
       "3   2.0    0.8         0      2  \n",
       "4   0.0    2.0         0      0  "
      ]
     },
     "execution_count": 51,
     "metadata": {},
     "output_type": "execute_result"
    }
   ],
   "source": [
    "# Fill missing Fare with median fare for each Pclass\n",
    "train[\"Cabin\"].fillna(train.groupby(\"Pclass\")[\"Cabin\"].transform(\"median\"), inplace=True)\n",
    "test[\"Cabin\"].fillna(test.groupby(\"Pclass\")[\"Cabin\"].transform(\"median\"), inplace=True)\n",
    "\n",
    "train.head()   "
   ]
  },
  {
   "cell_type": "markdown",
   "id": "98a8a0ed",
   "metadata": {
    "papermill": {
     "duration": 0.037374,
     "end_time": "2024-11-01T18:36:51.422514",
     "exception": false,
     "start_time": "2024-11-01T18:36:51.385140",
     "status": "completed"
    },
    "tags": []
   },
   "source": [
    "**Family Size Mapping**"
   ]
  },
  {
   "cell_type": "code",
   "execution_count": 52,
   "id": "43419bb6",
   "metadata": {
    "execution": {
     "iopub.execute_input": "2024-11-01T18:36:51.500059Z",
     "iopub.status.busy": "2024-11-01T18:36:51.499241Z",
     "iopub.status.idle": "2024-11-01T18:36:51.508900Z",
     "shell.execute_reply": "2024-11-01T18:36:51.507496Z"
    },
    "papermill": {
     "duration": 0.051979,
     "end_time": "2024-11-01T18:36:51.511992",
     "exception": false,
     "start_time": "2024-11-01T18:36:51.460013",
     "status": "completed"
    },
    "tags": []
   },
   "outputs": [],
   "source": [
    "train[\"FamilySize\"] = train[\"SibSp\"] + train[\"Parch\"] + 1\n",
    "test[\"FamilySize\"] = test[\"SibSp\"] + test[\"Parch\"] + 1"
   ]
  },
  {
   "cell_type": "code",
   "execution_count": 53,
   "id": "2d49e0c2",
   "metadata": {
    "execution": {
     "iopub.execute_input": "2024-11-01T18:36:51.590972Z",
     "iopub.status.busy": "2024-11-01T18:36:51.590517Z",
     "iopub.status.idle": "2024-11-01T18:36:52.480448Z",
     "shell.execute_reply": "2024-11-01T18:36:52.479088Z"
    },
    "papermill": {
     "duration": 0.933006,
     "end_time": "2024-11-01T18:36:52.483307",
     "exception": false,
     "start_time": "2024-11-01T18:36:51.550301",
     "status": "completed"
    },
    "tags": []
   },
   "outputs": [
    {
     "name": "stderr",
     "output_type": "stream",
     "text": [
      "/opt/conda/lib/python3.10/site-packages/seaborn/axisgrid.py:848: FutureWarning: \n",
      "\n",
      "`shade` is now deprecated in favor of `fill`; setting `fill=True`.\n",
      "This will become an error in seaborn v0.14.0; please update your code.\n",
      "\n",
      "  func(*plot_args, **plot_kwargs)\n",
      "/opt/conda/lib/python3.10/site-packages/seaborn/_oldcore.py:1119: FutureWarning: use_inf_as_na option is deprecated and will be removed in a future version. Convert inf values to NaN before operating instead.\n",
      "  with pd.option_context('mode.use_inf_as_na', True):\n",
      "/opt/conda/lib/python3.10/site-packages/seaborn/axisgrid.py:848: FutureWarning: \n",
      "\n",
      "`shade` is now deprecated in favor of `fill`; setting `fill=True`.\n",
      "This will become an error in seaborn v0.14.0; please update your code.\n",
      "\n",
      "  func(*plot_args, **plot_kwargs)\n",
      "/opt/conda/lib/python3.10/site-packages/seaborn/_oldcore.py:1119: FutureWarning: use_inf_as_na option is deprecated and will be removed in a future version. Convert inf values to NaN before operating instead.\n",
      "  with pd.option_context('mode.use_inf_as_na', True):\n"
     ]
    },
    {
     "data": {
      "text/plain": [
       "(0.0, 11.0)"
      ]
     },
     "execution_count": 53,
     "metadata": {},
     "output_type": "execute_result"
    },
    {
     "data": {
      "image/png": "[encoded data removed]",
      "text/plain": [
       "<Figure size 1285.22x300 with 1 Axes>"
      ]
     },
     "metadata": {},
     "output_type": "display_data"
    }
   ],
   "source": [
    "# creates Kernel Density Estimate plot for FamilySize feature, it will show the distribution of family size or passengers who survived and those who didn't\n",
    "facet = sns.FacetGrid(train, hue=\"Survived\",aspect=4)\n",
    "facet.map(sns.kdeplot,'FamilySize',shade= True)\n",
    "facet.set(xlim=(0, train['FamilySize'].max()))\n",
    "facet.add_legend()\n",
    "plt.xlim(0)"
   ]
  },
  {
   "cell_type": "code",
   "execution_count": 54,
   "id": "8e6fe8eb",
   "metadata": {
    "execution": {
     "iopub.execute_input": "2024-11-01T18:36:52.566215Z",
     "iopub.status.busy": "2024-11-01T18:36:52.565114Z",
     "iopub.status.idle": "2024-11-01T18:36:52.575161Z",
     "shell.execute_reply": "2024-11-01T18:36:52.573823Z"
    },
    "papermill": {
     "duration": 0.055562,
     "end_time": "2024-11-01T18:36:52.578094",
     "exception": false,
     "start_time": "2024-11-01T18:36:52.522532",
     "status": "completed"
    },
    "tags": []
   },
   "outputs": [],
   "source": [
    "family_mapping = {1: 0, 2: 0.4, 3: 0.8, 4: 1.2, 5: 1.6, 6: 2, 7: 2.4, 8: 2.8, 9: 3.2, 10: 3.6, 11: 4}\n",
    "\n",
    "for dataset in train_test_data:\n",
    "    dataset[\"FamilySize\"] = dataset[\"FamilySize\"].map(family_mapping)"
   ]
  },
  {
   "cell_type": "code",
   "execution_count": 55,
   "id": "e1fdafe4",
   "metadata": {
    "execution": {
     "iopub.execute_input": "2024-11-01T18:36:52.669170Z",
     "iopub.status.busy": "2024-11-01T18:36:52.668703Z",
     "iopub.status.idle": "2024-11-01T18:36:52.689347Z",
     "shell.execute_reply": "2024-11-01T18:36:52.688030Z"
    },
    "papermill": {
     "duration": 0.06481,
     "end_time": "2024-11-01T18:36:52.692128",
     "exception": false,
     "start_time": "2024-11-01T18:36:52.627318",
     "status": "completed"
    },
    "tags": []
   },
   "outputs": [
    {
     "data": {
      "text/html": [
       "<div>\n",
       "<style scoped>\n",
       "    .dataframe tbody tr th:only-of-type {\n",
       "        vertical-align: middle;\n",
       "    }\n",
       "\n",
       "    .dataframe tbody tr th {\n",
       "        vertical-align: top;\n",
       "    }\n",
       "\n",
       "    .dataframe thead th {\n",
       "        text-align: right;\n",
       "    }\n",
       "</style>\n",
       "<table border=\"1\" class=\"dataframe\">\n",
       "  <thead>\n",
       "    <tr style=\"text-align: right;\">\n",
       "      <th></th>\n",
       "      <th>PassengerId</th>\n",
       "      <th>Survived</th>\n",
       "      <th>Pclass</th>\n",
       "      <th>Sex</th>\n",
       "      <th>Age</th>\n",
       "      <th>SibSp</th>\n",
       "      <th>Parch</th>\n",
       "      <th>Ticket</th>\n",
       "      <th>Fare</th>\n",
       "      <th>Cabin</th>\n",
       "      <th>Embarked</th>\n",
       "      <th>Title</th>\n",
       "      <th>FamilySize</th>\n",
       "    </tr>\n",
       "  </thead>\n",
       "  <tbody>\n",
       "    <tr>\n",
       "      <th>0</th>\n",
       "      <td>1</td>\n",
       "      <td>0</td>\n",
       "      <td>3</td>\n",
       "      <td>0</td>\n",
       "      <td>1.0</td>\n",
       "      <td>1</td>\n",
       "      <td>0</td>\n",
       "      <td>A/5 21171</td>\n",
       "      <td>0.0</td>\n",
       "      <td>2.0</td>\n",
       "      <td>0</td>\n",
       "      <td>0</td>\n",
       "      <td>0.4</td>\n",
       "    </tr>\n",
       "    <tr>\n",
       "      <th>1</th>\n",
       "      <td>2</td>\n",
       "      <td>1</td>\n",
       "      <td>1</td>\n",
       "      <td>1</td>\n",
       "      <td>3.0</td>\n",
       "      <td>1</td>\n",
       "      <td>0</td>\n",
       "      <td>PC 17599</td>\n",
       "      <td>2.0</td>\n",
       "      <td>0.8</td>\n",
       "      <td>1</td>\n",
       "      <td>2</td>\n",
       "      <td>0.4</td>\n",
       "    </tr>\n",
       "    <tr>\n",
       "      <th>2</th>\n",
       "      <td>3</td>\n",
       "      <td>1</td>\n",
       "      <td>3</td>\n",
       "      <td>1</td>\n",
       "      <td>1.0</td>\n",
       "      <td>0</td>\n",
       "      <td>0</td>\n",
       "      <td>STON/O2. 3101282</td>\n",
       "      <td>0.0</td>\n",
       "      <td>2.0</td>\n",
       "      <td>0</td>\n",
       "      <td>1</td>\n",
       "      <td>0.0</td>\n",
       "    </tr>\n",
       "    <tr>\n",
       "      <th>3</th>\n",
       "      <td>4</td>\n",
       "      <td>1</td>\n",
       "      <td>1</td>\n",
       "      <td>1</td>\n",
       "      <td>2.0</td>\n",
       "      <td>1</td>\n",
       "      <td>0</td>\n",
       "      <td>113803</td>\n",
       "      <td>2.0</td>\n",
       "      <td>0.8</td>\n",
       "      <td>0</td>\n",
       "      <td>2</td>\n",
       "      <td>0.4</td>\n",
       "    </tr>\n",
       "    <tr>\n",
       "      <th>4</th>\n",
       "      <td>5</td>\n",
       "      <td>0</td>\n",
       "      <td>3</td>\n",
       "      <td>0</td>\n",
       "      <td>2.0</td>\n",
       "      <td>0</td>\n",
       "      <td>0</td>\n",
       "      <td>373450</td>\n",
       "      <td>0.0</td>\n",
       "      <td>2.0</td>\n",
       "      <td>0</td>\n",
       "      <td>0</td>\n",
       "      <td>0.0</td>\n",
       "    </tr>\n",
       "  </tbody>\n",
       "</table>\n",
       "</div>"
      ],
      "text/plain": [
       "   PassengerId  Survived  Pclass  Sex  Age  SibSp  Parch            Ticket  \\\n",
       "0            1         0       3    0  1.0      1      0         A/5 21171   \n",
       "1            2         1       1    1  3.0      1      0          PC 17599   \n",
       "2            3         1       3    1  1.0      0      0  STON/O2. 3101282   \n",
       "3            4         1       1    1  2.0      1      0            113803   \n",
       "4            5         0       3    0  2.0      0      0            373450   \n",
       "\n",
       "   Fare  Cabin  Embarked  Title  FamilySize  \n",
       "0   0.0    2.0         0      0         0.4  \n",
       "1   2.0    0.8         1      2         0.4  \n",
       "2   0.0    2.0         0      1         0.0  \n",
       "3   2.0    0.8         0      2         0.4  \n",
       "4   0.0    2.0         0      0         0.0  "
      ]
     },
     "execution_count": 55,
     "metadata": {},
     "output_type": "execute_result"
    }
   ],
   "source": [
    "train.head()"
   ]
  },
  {
   "cell_type": "markdown",
   "id": "81265594",
   "metadata": {
    "papermill": {
     "duration": 0.04007,
     "end_time": "2024-11-01T18:36:52.771605",
     "exception": false,
     "start_time": "2024-11-01T18:36:52.731535",
     "status": "completed"
    },
    "tags": []
   },
   "source": [
    "**Dropping Unnecessary Features**"
   ]
  },
  {
   "cell_type": "code",
   "execution_count": 56,
   "id": "57f92c67",
   "metadata": {
    "execution": {
     "iopub.execute_input": "2024-11-01T18:36:52.856705Z",
     "iopub.status.busy": "2024-11-01T18:36:52.856235Z",
     "iopub.status.idle": "2024-11-01T18:36:52.866711Z",
     "shell.execute_reply": "2024-11-01T18:36:52.865464Z"
    },
    "papermill": {
     "duration": 0.057965,
     "end_time": "2024-11-01T18:36:52.869387",
     "exception": false,
     "start_time": "2024-11-01T18:36:52.811422",
     "status": "completed"
    },
    "tags": []
   },
   "outputs": [],
   "source": [
    "features_drop = [\"Ticket\", \"SibSp\", \"Parch\"]\n",
    "train = train.drop(features_drop, axis=1)\n",
    "test = test.drop(features_drop, axis=1)\n",
    "train = train.drop([\"PassengerId\"], axis=1)"
   ]
  },
  {
   "cell_type": "code",
   "execution_count": 57,
   "id": "91c3af52",
   "metadata": {
    "execution": {
     "iopub.execute_input": "2024-11-01T18:36:52.950077Z",
     "iopub.status.busy": "2024-11-01T18:36:52.949537Z",
     "iopub.status.idle": "2024-11-01T18:36:52.974537Z",
     "shell.execute_reply": "2024-11-01T18:36:52.973087Z"
    },
    "papermill": {
     "duration": 0.067868,
     "end_time": "2024-11-01T18:36:52.977284",
     "exception": false,
     "start_time": "2024-11-01T18:36:52.909416",
     "status": "completed"
    },
    "tags": []
   },
   "outputs": [
    {
     "data": {
      "text/html": [
       "<div>\n",
       "<style scoped>\n",
       "    .dataframe tbody tr th:only-of-type {\n",
       "        vertical-align: middle;\n",
       "    }\n",
       "\n",
       "    .dataframe tbody tr th {\n",
       "        vertical-align: top;\n",
       "    }\n",
       "\n",
       "    .dataframe thead th {\n",
       "        text-align: right;\n",
       "    }\n",
       "</style>\n",
       "<table border=\"1\" class=\"dataframe\">\n",
       "  <thead>\n",
       "    <tr style=\"text-align: right;\">\n",
       "      <th></th>\n",
       "      <th>Pclass</th>\n",
       "      <th>Sex</th>\n",
       "      <th>Age</th>\n",
       "      <th>Fare</th>\n",
       "      <th>Cabin</th>\n",
       "      <th>Embarked</th>\n",
       "      <th>Title</th>\n",
       "      <th>FamilySize</th>\n",
       "    </tr>\n",
       "  </thead>\n",
       "  <tbody>\n",
       "    <tr>\n",
       "      <th>0</th>\n",
       "      <td>3</td>\n",
       "      <td>0</td>\n",
       "      <td>1.0</td>\n",
       "      <td>0.0</td>\n",
       "      <td>2.0</td>\n",
       "      <td>0</td>\n",
       "      <td>0</td>\n",
       "      <td>0.4</td>\n",
       "    </tr>\n",
       "    <tr>\n",
       "      <th>1</th>\n",
       "      <td>1</td>\n",
       "      <td>1</td>\n",
       "      <td>3.0</td>\n",
       "      <td>2.0</td>\n",
       "      <td>0.8</td>\n",
       "      <td>1</td>\n",
       "      <td>2</td>\n",
       "      <td>0.4</td>\n",
       "    </tr>\n",
       "    <tr>\n",
       "      <th>2</th>\n",
       "      <td>3</td>\n",
       "      <td>1</td>\n",
       "      <td>1.0</td>\n",
       "      <td>0.0</td>\n",
       "      <td>2.0</td>\n",
       "      <td>0</td>\n",
       "      <td>1</td>\n",
       "      <td>0.0</td>\n",
       "    </tr>\n",
       "    <tr>\n",
       "      <th>3</th>\n",
       "      <td>1</td>\n",
       "      <td>1</td>\n",
       "      <td>2.0</td>\n",
       "      <td>2.0</td>\n",
       "      <td>0.8</td>\n",
       "      <td>0</td>\n",
       "      <td>2</td>\n",
       "      <td>0.4</td>\n",
       "    </tr>\n",
       "    <tr>\n",
       "      <th>4</th>\n",
       "      <td>3</td>\n",
       "      <td>0</td>\n",
       "      <td>2.0</td>\n",
       "      <td>0.0</td>\n",
       "      <td>2.0</td>\n",
       "      <td>0</td>\n",
       "      <td>0</td>\n",
       "      <td>0.0</td>\n",
       "    </tr>\n",
       "    <tr>\n",
       "      <th>5</th>\n",
       "      <td>3</td>\n",
       "      <td>0</td>\n",
       "      <td>2.0</td>\n",
       "      <td>0.0</td>\n",
       "      <td>2.0</td>\n",
       "      <td>2</td>\n",
       "      <td>0</td>\n",
       "      <td>0.0</td>\n",
       "    </tr>\n",
       "    <tr>\n",
       "      <th>6</th>\n",
       "      <td>1</td>\n",
       "      <td>0</td>\n",
       "      <td>3.0</td>\n",
       "      <td>2.0</td>\n",
       "      <td>1.6</td>\n",
       "      <td>0</td>\n",
       "      <td>0</td>\n",
       "      <td>0.0</td>\n",
       "    </tr>\n",
       "    <tr>\n",
       "      <th>7</th>\n",
       "      <td>3</td>\n",
       "      <td>0</td>\n",
       "      <td>0.0</td>\n",
       "      <td>1.0</td>\n",
       "      <td>2.0</td>\n",
       "      <td>0</td>\n",
       "      <td>3</td>\n",
       "      <td>1.6</td>\n",
       "    </tr>\n",
       "    <tr>\n",
       "      <th>8</th>\n",
       "      <td>3</td>\n",
       "      <td>1</td>\n",
       "      <td>2.0</td>\n",
       "      <td>0.0</td>\n",
       "      <td>2.0</td>\n",
       "      <td>0</td>\n",
       "      <td>2</td>\n",
       "      <td>0.8</td>\n",
       "    </tr>\n",
       "    <tr>\n",
       "      <th>9</th>\n",
       "      <td>2</td>\n",
       "      <td>1</td>\n",
       "      <td>0.0</td>\n",
       "      <td>2.0</td>\n",
       "      <td>1.8</td>\n",
       "      <td>1</td>\n",
       "      <td>2</td>\n",
       "      <td>0.4</td>\n",
       "    </tr>\n",
       "  </tbody>\n",
       "</table>\n",
       "</div>"
      ],
      "text/plain": [
       "   Pclass  Sex  Age  Fare  Cabin  Embarked  Title  FamilySize\n",
       "0       3    0  1.0   0.0    2.0         0      0         0.4\n",
       "1       1    1  3.0   2.0    0.8         1      2         0.4\n",
       "2       3    1  1.0   0.0    2.0         0      1         0.0\n",
       "3       1    1  2.0   2.0    0.8         0      2         0.4\n",
       "4       3    0  2.0   0.0    2.0         0      0         0.0\n",
       "5       3    0  2.0   0.0    2.0         2      0         0.0\n",
       "6       1    0  3.0   2.0    1.6         0      0         0.0\n",
       "7       3    0  0.0   1.0    2.0         0      3         1.6\n",
       "8       3    1  2.0   0.0    2.0         0      2         0.8\n",
       "9       2    1  0.0   2.0    1.8         1      2         0.4"
      ]
     },
     "execution_count": 57,
     "metadata": {},
     "output_type": "execute_result"
    }
   ],
   "source": [
    "train_data = train.drop(\"Survived\", axis=1)\n",
    "target = train[\"Survived\"]\n",
    "\n",
    "train_data.head(10)"
   ]
  }
 ],
 "metadata": {
  "kaggle": {
   "accelerator": "none",
   "dataSources": [
    {
     "databundleVersionId": 26502,
     "sourceId": 3136,
     "sourceType": "competition"
    }
   ],
   "dockerImageVersionId": 30786,
   "isGpuEnabled": false,
   "isInternetEnabled": false,
   "language": "python",
   "sourceType": "notebook"
  },
  "kernelspec": {
   "display_name": "Python 3",
   "language": "python",
   "name": "python3"
  },
  "language_info": {
   "codemirror_mode": {
    "name": "ipython",
    "version": 3
   },
   "file_extension": ".py",
   "mimetype": "text/x-python",
   "name": "python",
   "nbconvert_exporter": "python",
   "pygments_lexer": "ipython3",
   "version": "3.10.14"
  },
  "papermill": {
   "default_parameters": {},
   "duration": 22.751556,
   "end_time": "2024-11-01T18:36:53.845098",
   "environment_variables": {},
   "exception": null,
   "input_path": "__notebook__.ipynb",
   "output_path": "__notebook__.ipynb",
   "parameters": {},
   "start_time": "2024-11-01T18:36:31.093542",
   "version": "2.6.0"
  }
 },
 "nbformat": 4,
 "nbformat_minor": 5
}
